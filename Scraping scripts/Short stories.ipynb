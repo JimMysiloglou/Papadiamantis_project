{
 "cells": [
  {
   "cell_type": "markdown",
   "id": "4c34fd3c-4780-42f4-9d17-8ad6b36382bb",
   "metadata": {},
   "source": [
    "# Short Stories"
   ]
  },
  {
   "cell_type": "code",
   "execution_count": 1,
   "id": "cf422242-a96e-4497-935a-ad9154ddafe0",
   "metadata": {},
   "outputs": [],
   "source": [
    "import pandas as pd\n",
    "from bs4 import BeautifulSoup\n",
    "import requests\n",
    "import time\n",
    "from tqdm import tqdm"
   ]
  },
  {
   "cell_type": "markdown",
   "id": "4b93b911-0877-48d3-a072-bfa97fbf23b1",
   "metadata": {},
   "source": [
    "## Short stories links"
   ]
  },
  {
   "cell_type": "code",
   "execution_count": 2,
   "id": "0c166c2a-712c-46d8-b705-ce962804655d",
   "metadata": {},
   "outputs": [],
   "source": [
    "url = 'https://papadiamantis.net'\n",
    "\n",
    "page = requests.get(url + '/aleksandros-papadiamantis/syggrafiko-ergo/diigimata')"
   ]
  },
  {
   "cell_type": "code",
   "execution_count": 3,
   "id": "b3231a5f-1263-416e-86e2-d963deced9db",
   "metadata": {},
   "outputs": [
    {
     "data": {
      "text/plain": [
       "200"
      ]
     },
     "execution_count": 3,
     "metadata": {},
     "output_type": "execute_result"
    }
   ],
   "source": [
    "page.status_code"
   ]
  },
  {
   "cell_type": "code",
   "execution_count": 4,
   "id": "66664ac7-d558-43a0-84ea-412639f57825",
   "metadata": {},
   "outputs": [],
   "source": [
    "soup = BeautifulSoup(page.content, 'html.parser')"
   ]
  },
  {
   "cell_type": "code",
   "execution_count": 5,
   "id": "e128e4f0-631d-41d5-853b-a9f70881d255",
   "metadata": {
    "scrolled": true
   },
   "outputs": [],
   "source": [
    "li = soup.find(\"ul\", class_=\"uk-list\")"
   ]
  },
  {
   "cell_type": "code",
   "execution_count": 6,
   "id": "ea68943b-d72a-4f74-be3d-68f8669d5524",
   "metadata": {
    "scrolled": true
   },
   "outputs": [
    {
     "data": {
      "text/plain": [
       "['/aleksandros-papadiamantis/syggrafiko-ergo/diigimata/235-gapi-st-n-kremno-1913',\n",
       " '/aleksandros-papadiamantis/syggrafiko-ergo/diigimata/345-gia-ka-pethamena-1896',\n",
       " '/aleksandros-papadiamantis/syggrafiko-ergo/diigimata/304-llos-typos-1903',\n",
       " '/aleksandros-papadiamantis/syggrafiko-ergo/diigimata/334-martias-fantasma-1900',\n",
       " '/aleksandros-papadiamantis/syggrafiko-ergo/diigimata/272-nthos-to-gialo-1906',\n",
       " '/aleksandros-papadiamantis/syggrafiko-ergo/diigimata/367-pokriatiki-nyxtia-1892',\n",
       " '/aleksandros-papadiamantis/syggrafiko-ergo/diigimata/330-polafsis-st-geitonia-1900',\n",
       " '/aleksandros-papadiamantis/syggrafiko-ergo/diigimata/264-spri-s-n-t-xioni-1907',\n",
       " '/aleksandros-papadiamantis/syggrafiko-ergo/diigimata/288-psaltos-1906',\n",
       " '/aleksandros-papadiamantis/syggrafiko-ergo/diigimata/357-vardianos-st-sporka-1893',\n",
       " '/aleksandros-papadiamantis/syggrafiko-ergo/diigimata/314-gi-t-nomata-1902',\n",
       " '/aleksandros-papadiamantis/syggrafiko-ergo/diigimata/336-gi-t-n-perifania-1899',\n",
       " '/aleksandros-papadiamantis/syggrafiko-ergo/diigimata/339-gouto-goupato-1899',\n",
       " '/aleksandros-papadiamantis/syggrafiko-ergo/diigimata/295-gyn-pleousa-1905',\n",
       " '/aleksandros-papadiamantis/syggrafiko-ergo/diigimata/245-dimarxina-nyfi-1912',\n",
       " '/aleksandros-papadiamantis/syggrafiko-ergo/diigimata/379-ksoxik-lampri-1890',\n",
       " '/aleksandros-papadiamantis/syggrafiko-ergo/diigimata/278-ksoxik-n-kro-sma-1906',\n",
       " '/aleksandros-papadiamantis/syggrafiko-ergo/diigimata/222-pimithe-s-e-s-t-n-vraxon-1925',\n",
       " '/aleksandros-papadiamantis/syggrafiko-ergo/diigimata/247-rimo-mn-ma-1910',\n",
       " '/aleksandros-papadiamantis/syggrafiko-ergo/diigimata/287-rmi-st-ksena-1906',\n",
       " '/aleksandros-papadiamantis/syggrafiko-ergo/diigimata/340-ros-ros-1897',\n",
       " '/aleksandros-papadiamantis/syggrafiko-ergo/diigimata/293-kliri-1905',\n",
       " '/aleksandros-papadiamantis/syggrafiko-ergo/diigimata/292-posostra-1905',\n",
       " '/aleksandros-papadiamantis/syggrafiko-ergo/diigimata/226-sprofoustano-sa-1925',\n",
       " '/aleksandros-papadiamantis/syggrafiko-ergo/diigimata/364-vlaxopoyla-1892',\n",
       " '/aleksandros-papadiamantis/syggrafiko-ergo/diigimata/350-glykofilo-sa-1894',\n",
       " '/aleksandros-papadiamantis/syggrafiko-ergo/diigimata/274-gra-a-k-thyella-1906',\n",
       " '/aleksandros-papadiamantis/syggrafiko-ergo/diigimata/354-daskalomanna-1894',\n",
       " '/aleksandros-papadiamantis/syggrafiko-ergo/diigimata/277-piskepsis-to-giou-despoti-1906',\n",
       " '/aleksandros-papadiamantis/syggrafiko-ergo/diigimata/282-theodikia-t-s-daskalas-1906',\n",
       " '/aleksandros-papadiamantis/syggrafiko-ergo/diigimata/313-thiteia-t-s-penther-s-1902',\n",
       " '/aleksandros-papadiamantis/syggrafiko-ergo/diigimata/229-kallikatzoyna-1925',\n",
       " '/aleksandros-papadiamantis/syggrafiko-ergo/diigimata/265-kaltsa-t-s-noenas-1907',\n",
       " '/aleksandros-papadiamantis/syggrafiko-ergo/diigimata/220-kleftoparea-1925',\n",
       " '/aleksandros-papadiamantis/syggrafiko-ergo/diigimata/271-makrakistina-1906',\n",
       " '/aleksandros-papadiamantis/syggrafiko-ergo/diigimata/290-maoyta-1905',\n",
       " '/aleksandros-papadiamantis/syggrafiko-ergo/diigimata/376-mavromantiloy-1891',\n",
       " '/aleksandros-papadiamantis/syggrafiko-ergo/diigimata/203-nostalgia-to-gianni-1906-neo',\n",
       " '/aleksandros-papadiamantis/syggrafiko-ergo/diigimata/351-nostalgos-1894',\n",
       " '/aleksandros-papadiamantis/syggrafiko-ergo/diigimata/299-delisyfero-1904',\n",
       " '/aleksandros-papadiamantis/syggrafiko-ergo/diigimata/269-ksompliastira-1906',\n",
       " '/aleksandros-papadiamantis/syggrafiko-ergo/diigimata/251-pepoikilmeni-1909',\n",
       " '/aleksandros-papadiamantis/syggrafiko-ergo/diigimata/254-pitropissa-1909',\n",
       " '/aleksandros-papadiamantis/syggrafiko-ergo/diigimata/380-staxomazoxtra-1889',\n",
       " '/aleksandros-papadiamantis/syggrafiko-ergo/diigimata/300-stoixeiomeni-kamara-1904',\n",
       " '/aleksandros-papadiamantis/syggrafiko-ergo/diigimata/305-synteknissa-1903',\n",
       " '/aleksandros-papadiamantis/syggrafiko-ergo/diigimata/383-teleftaia-vaptistiki-1888',\n",
       " '/aleksandros-papadiamantis/syggrafiko-ergo/diigimata/322-tyxi-p-t-n-merika-1902',\n",
       " '/aleksandros-papadiamantis/syggrafiko-ergo/diigimata/325-farmakolytria-1900',\n",
       " '/aleksandros-papadiamantis/syggrafiko-ergo/diigimata/312-fonissa-1903',\n",
       " '/aleksandros-papadiamantis/syggrafiko-ergo/diigimata/302-fon-to-drakou-1904',\n",
       " '/aleksandros-papadiamantis/syggrafiko-ergo/diigimata/384-xira-papadia-1888',\n",
       " '/aleksandros-papadiamantis/syggrafiko-ergo/diigimata/294-xira-to-neomartyros-1905',\n",
       " '/aleksandros-papadiamantis/syggrafiko-ergo/diigimata/319-xoleriasmeni-1901',\n",
       " '/aleksandros-papadiamantis/syggrafiko-ergo/diigimata/378-xtypimeni-1890',\n",
       " '/aleksandros-papadiamantis/syggrafiko-ergo/diigimata/218-psyxokori-1925',\n",
       " '/aleksandros-papadiamantis/syggrafiko-ergo/diigimata/267-thanatos-koris-1907',\n",
       " '/aleksandros-papadiamantis/syggrafiko-ergo/diigimata/373-theros-ros-1891',\n",
       " '/aleksandros-papadiamantis/syggrafiko-ergo/diigimata/219-atre-a-t-s-vavyl-nos-1925',\n",
       " '/aleksandros-papadiamantis/syggrafiko-ergo/diigimata/275-koinonik-rmonia-1906',\n",
       " '/aleksandros-papadiamantis/syggrafiko-ergo/diigimata/327-kokkona-thalassa-1900',\n",
       " '/aleksandros-papadiamantis/syggrafiko-ergo/diigimata/358-lampriatikos-psaltis-1893',\n",
       " '/aleksandros-papadiamantis/syggrafiko-ergo/diigimata/233-manna-ka-kori-1914',\n",
       " '/aleksandros-papadiamantis/syggrafiko-ergo/diigimata/263-m-t-n-pezovolo-1907',\n",
       " '/aleksandros-papadiamantis/syggrafiko-ergo/diigimata/239-megaleion-psonia-1912',\n",
       " '/aleksandros-papadiamantis/syggrafiko-ergo/diigimata/371-mi-psyxi',\n",
       " '/aleksandros-papadiamantis/syggrafiko-ergo/diigimata/303-mikr-psyxologia-1903',\n",
       " '/aleksandros-papadiamantis/syggrafiko-ergo/diigimata/359-navagion-navagia-1893',\n",
       " '/aleksandros-papadiamantis/syggrafiko-ergo/diigimata/224-nekranthema-e-s-t-n-mnimin-ton-1925',\n",
       " '/aleksandros-papadiamantis/syggrafiko-ergo/diigimata/250-nekr-s-taksidiotis-1910',\n",
       " '/aleksandros-papadiamantis/syggrafiko-ergo/diigimata/343-vaskam-s-to-g-1896',\n",
       " '/aleksandros-papadiamantis/syggrafiko-ergo/diigimata/306-eiplanitos-1903',\n",
       " '/aleksandros-papadiamantis/syggrafiko-ergo/diigimata/311-livanistos-1903',\n",
       " '/aleksandros-papadiamantis/syggrafiko-ergo/diigimata/369-merikanos-1891',\n",
       " '/aleksandros-papadiamantis/syggrafiko-ergo/diigimata/249-nakatos-1910',\n",
       " '/aleksandros-papadiamantis/syggrafiko-ergo/diigimata/246-ntiktypos-to-no-1910',\n",
       " '/aleksandros-papadiamantis/syggrafiko-ergo/diigimata/214-a-toktonos-1954',\n",
       " '/aleksandros-papadiamantis/syggrafiko-ergo/diigimata/331-gagatos-ka-t-logo-1900',\n",
       " '/aleksandros-papadiamantis/syggrafiko-ergo/diigimata/234-gamos-to-karaxmeti-1914',\n",
       " '/aleksandros-papadiamantis/syggrafiko-ergo/diigimata/326-geitonas-m-t-lago-to-1900',\n",
       " '/aleksandros-papadiamantis/syggrafiko-ergo/diigimata/273-didaxos-1906',\n",
       " '/aleksandros-papadiamantis/syggrafiko-ergo/diigimata/347-rotas-st-xionia-1896',\n",
       " '/aleksandros-papadiamantis/syggrafiko-ergo/diigimata/308-kakomis-1903',\n",
       " '/aleksandros-papadiamantis/syggrafiko-ergo/diigimata/366-kalogeros-1892',\n",
       " '/aleksandros-papadiamantis/syggrafiko-ergo/diigimata/310-kosmolaitis-1903',\n",
       " '/aleksandros-papadiamantis/syggrafiko-ergo/diigimata/346-ksepesmenos-dervisis-1896',\n",
       " '/aleksandros-papadiamantis/syggrafiko-ergo/diigimata/317-pandrologos-1902',\n",
       " '/aleksandros-papadiamantis/syggrafiko-ergo/diigimata/377-pantarotas-1891',\n",
       " '/aleksandros-papadiamantis/syggrafiko-ergo/diigimata/291-pentarfanos-1905',\n",
       " '/aleksandros-papadiamantis/syggrafiko-ergo/diigimata/370-politism-s-e-s-t-xorion-1891',\n",
       " '/aleksandros-papadiamantis/syggrafiko-ergo/diigimata/215-prostatis-t-n-xir-n-1947',\n",
       " '/aleksandros-papadiamantis/syggrafiko-ergo/diigimata/381-simadiakos-1889',\n",
       " '/aleksandros-papadiamantis/syggrafiko-ergo/diigimata/361-tyflosyrtis-1892',\n",
       " '/aleksandros-papadiamantis/syggrafiko-ergo/diigimata/297-xaramados-1904',\n",
       " '/aleksandros-papadiamantis/syggrafiko-ergo/diigimata/296-xor-s-e-s-to-k-periandrou-1905',\n",
       " '/aleksandros-papadiamantis/syggrafiko-ergo/diigimata/284-o-dyo-drakoi-1906',\n",
       " '/aleksandros-papadiamantis/syggrafiko-ergo/diigimata/360-o-lafroiskiotoi-1892',\n",
       " '/aleksandros-papadiamantis/syggrafiko-ergo/diigimata/241-o-kantara-oi-1912',\n",
       " '/aleksandros-papadiamantis/syggrafiko-ergo/diigimata/307-o-kouklopantreies-1903',\n",
       " '/aleksandros-papadiamantis/syggrafiko-ergo/diigimata/258-o-lires-to-zaxou-1908',\n",
       " '/aleksandros-papadiamantis/syggrafiko-ergo/diigimata/333-o-magisses-1900',\n",
       " '/aleksandros-papadiamantis/syggrafiko-ergo/diigimata/318-o-navagos-stai-1901',\n",
       " '/aleksandros-papadiamantis/syggrafiko-ergo/diigimata/338-o-paraponemenes-1899',\n",
       " '/aleksandros-papadiamantis/syggrafiko-ergo/diigimata/362-o-xalasoxorides-1892',\n",
       " '/aleksandros-papadiamantis/syggrafiko-ergo/diigimata/363-logyra-st-limni-1892',\n",
       " '/aleksandros-papadiamantis/syggrafiko-ergo/diigimata/329-neiro-st-k-ma-1900',\n",
       " '/aleksandros-papadiamantis/syggrafiko-ergo/diigimata/375-paidik-pasxalia-1891',\n",
       " '/aleksandros-papadiamantis/syggrafiko-ergo/diigimata/374-pasxa-romeiko-1891',\n",
       " '/aleksandros-papadiamantis/syggrafiko-ergo/diigimata/349-patera-st-spiti-1895',\n",
       " '/aleksandros-papadiamantis/syggrafiko-ergo/diigimata/283-poia-k-t-n-dyo-1906',\n",
       " '/aleksandros-papadiamantis/syggrafiko-ergo/diigimata/286-remvasm-s-to-dekapentavgoystou-1906',\n",
       " '/aleksandros-papadiamantis/syggrafiko-ergo/diigimata/279-stagona-nero-1906',\n",
       " '/aleksandros-papadiamantis/syggrafiko-ergo/diigimata/365-st-n-gi-nastasa-1892',\n",
       " '/aleksandros-papadiamantis/syggrafiko-ergo/diigimata/216-st-mega-gialo-1934',\n",
       " '/aleksandros-papadiamantis/syggrafiko-ergo/diigimata/368-st-xrist-st-kastro-1892',\n",
       " '/aleksandros-papadiamantis/syggrafiko-ergo/diigimata/315-strigla-manna-1902',\n",
       " '/aleksandros-papadiamantis/syggrafiko-ergo/diigimata/242-t-ggeliasma-1912',\n",
       " '/aleksandros-papadiamantis/syggrafiko-ergo/diigimata/337-t-gnantema-1899',\n",
       " '/aleksandros-papadiamantis/syggrafiko-ergo/diigimata/261-t-erik-st-dentro-1907',\n",
       " '/aleksandros-papadiamantis/syggrafiko-ergo/diigimata/255-t-steraki-1908',\n",
       " '/aleksandros-papadiamantis/syggrafiko-ergo/diigimata/298-t-bo-f-t-pli-1904',\n",
       " '/aleksandros-papadiamantis/syggrafiko-ergo/diigimata/238-t-venetika-1912',\n",
       " '/aleksandros-papadiamantis/syggrafiko-ergo/diigimata/332-t-daimonia-st-rema-1900',\n",
       " '/aleksandros-papadiamantis/syggrafiko-ergo/diigimata/301-t-dyo-koytsoura-1904',\n",
       " '/aleksandros-papadiamantis/syggrafiko-ergo/diigimata/253-t-dyo-terata-1909',\n",
       " '/aleksandros-papadiamantis/syggrafiko-ergo/diigimata/256-t-kalampoyria-n-s-daskalou-1908',\n",
       " '/aleksandros-papadiamantis/syggrafiko-ergo/diigimata/309-t-kroysmata-1903',\n",
       " '/aleksandros-papadiamantis/syggrafiko-ergo/diigimata/268-t-limanakia-1907',\n",
       " '/aleksandros-papadiamantis/syggrafiko-ergo/diigimata/236-t-ma-ra-koytsoura-1912',\n",
       " '/aleksandros-papadiamantis/syggrafiko-ergo/diigimata/266-t-pteroenta-d-ra-1907',\n",
       " '/aleksandros-papadiamantis/syggrafiko-ergo/diigimata/259-t-rodin-krogialia-1908',\n",
       " '/aleksandros-papadiamantis/syggrafiko-ergo/diigimata/232-t-symvanta-st-n-mylo-1914',\n",
       " '/aleksandros-papadiamantis/syggrafiko-ergo/diigimata/353-t-syxarikia-1894',\n",
       " '/aleksandros-papadiamantis/syggrafiko-ergo/diigimata/223-t-telefta-a-to-gerou-1925',\n",
       " '/aleksandros-papadiamantis/syggrafiko-ergo/diigimata/237-t-fragkleika-1912',\n",
       " '/aleksandros-papadiamantis/syggrafiko-ergo/diigimata/230-t-xelia-1925',\n",
       " '/aleksandros-papadiamantis/syggrafiko-ergo/diigimata/341-t-xristoygenna-to-tempeli-1896',\n",
       " '/aleksandros-papadiamantis/syggrafiko-ergo/diigimata/252-t-s-daskalas-t-magia-1909',\n",
       " '/aleksandros-papadiamantis/syggrafiko-ergo/diigimata/356-t-s-kokkonas-t-spiti-1893',\n",
       " '/aleksandros-papadiamantis/syggrafiko-ergo/diigimata/225-t-dioktito-1925',\n",
       " '/aleksandros-papadiamantis/syggrafiko-ergo/diigimata/280-t-nami-tis-1906',\n",
       " '/aleksandros-papadiamantis/syggrafiko-ergo/diigimata/289-t-gialoksylo-1905',\n",
       " '/aleksandros-papadiamantis/syggrafiko-ergo/diigimata/248-t-gramma-st-n-meriki-1910',\n",
       " '/aleksandros-papadiamantis/syggrafiko-ergo/diigimata/335-t-niaysion-th-ma-1899',\n",
       " '/aleksandros-papadiamantis/syggrafiko-ergo/diigimata/217-t-zontan-kivoyri-mou-1926',\n",
       " '/aleksandros-papadiamantis/syggrafiko-ergo/diigimata/276-t-thalassoma-1906',\n",
       " '/aleksandros-papadiamantis/syggrafiko-ergo/diigimata/320-t-tha-ma-t-s-kaisarian-s-1901',\n",
       " '/aleksandros-papadiamantis/syggrafiko-ergo/diigimata/228-t-theoponti-1925',\n",
       " '/aleksandros-papadiamantis/syggrafiko-ergo/diigimata/262-t-kamini-1907',\n",
       " '/aleksandros-papadiamantis/syggrafiko-ergo/diigimata/221-t-koukoyloma-1925',\n",
       " '/aleksandros-papadiamantis/syggrafiko-ergo/diigimata/270-t-kryf-mandraki-1906',\n",
       " '/aleksandros-papadiamantis/syggrafiko-ergo/diigimata/257-t-myrologi-t-s-fokias-1908',\n",
       " '/aleksandros-papadiamantis/syggrafiko-ergo/diigimata/316-t-nis-t-s-o-ranitsas-1902',\n",
       " '/aleksandros-papadiamantis/syggrafiko-ergo/diigimata/328-t-pniksimo-to-paidio-1900',\n",
       " '/aleksandros-papadiamantis/syggrafiko-ergo/diigimata/342-t-spitaki-st-livadi-1896',\n",
       " '/aleksandros-papadiamantis/syggrafiko-ergo/diigimata/281-t-tyfl-sokaki-1906',\n",
       " '/aleksandros-papadiamantis/syggrafiko-ergo/diigimata/240-t-xatzopoulo-1912',\n",
       " '/aleksandros-papadiamantis/syggrafiko-ergo/diigimata/231-t-xrist-s-nesti-to-gianni-1914',\n",
       " '/aleksandros-papadiamantis/syggrafiko-ergo/diigimata/385-t-xristopsomo-1887',\n",
       " '/aleksandros-papadiamantis/syggrafiko-ergo/diigimata/285-t-psofimi-1906',\n",
       " '/aleksandros-papadiamantis/syggrafiko-ergo/diigimata/244-tragoydia-to-theo-1912',\n",
       " '/aleksandros-papadiamantis/syggrafiko-ergo/diigimata/324-trel-vradia-1901',\n",
       " '/aleksandros-papadiamantis/syggrafiko-ergo/diigimata/382-piretra-1888',\n",
       " '/aleksandros-papadiamantis/syggrafiko-ergo/diigimata/323-p-t-n-vasilik-n-dr-n-1901',\n",
       " '/aleksandros-papadiamantis/syggrafiko-ergo/diigimata/348-filostorgoi-1895',\n",
       " '/aleksandros-papadiamantis/syggrafiko-ergo/diigimata/227-flora-lavra-1925',\n",
       " '/aleksandros-papadiamantis/syggrafiko-ergo/diigimata/260-fortomena-kokkala-1907',\n",
       " '/aleksandros-papadiamantis/syggrafiko-ergo/diigimata/372-ftox-s-gios-1891',\n",
       " '/aleksandros-papadiamantis/syggrafiko-ergo/diigimata/352-f-ta-lofota-1894',\n",
       " '/aleksandros-papadiamantis/syggrafiko-ergo/diigimata/386-xr-stos-milionis-1885',\n",
       " '/aleksandros-papadiamantis/syggrafiko-ergo/diigimata/344-xor-s-stefani-1896',\n",
       " '/aleksandros-papadiamantis/syggrafiko-ergo/diigimata/355-x-vasanakia-1894']"
      ]
     },
     "execution_count": 6,
     "metadata": {},
     "output_type": "execute_result"
    }
   ],
   "source": [
    "links = [ item.find('a')['href'] for item in li.find_all('li') ]\n",
    "links"
   ]
  },
  {
   "cell_type": "code",
   "execution_count": 7,
   "id": "80ca3942-5475-43f3-92f5-c158715b8d19",
   "metadata": {},
   "outputs": [
    {
     "data": {
      "text/plain": [
       "172"
      ]
     },
     "execution_count": 7,
     "metadata": {},
     "output_type": "execute_result"
    }
   ],
   "source": [
    "len(links)"
   ]
  },
  {
   "cell_type": "markdown",
   "id": "4bf79c19-65db-42e3-9690-4aa3ed8aa088",
   "metadata": {},
   "source": [
    "## Get the content"
   ]
  },
  {
   "cell_type": "code",
   "execution_count": 8,
   "id": "b96f3077-20eb-407e-ba78-8d57e2ad013b",
   "metadata": {},
   "outputs": [],
   "source": [
    "def get_content(link):\n",
    "    time.sleep(5)\n",
    "    page = requests.get(url + link)\n",
    "    if page.status_code == 200:\n",
    "        soup = BeautifulSoup(page.content, 'html.parser')\n",
    "        title = soup.find('h1').text.strip()\n",
    "        content = \"\\n\".join([item.text for item in soup.find(id='template-vzKBZ3Fn#0').find_all('p') if '*' not in item.text][:-1])\n",
    "        return title, content\n",
    "    else:\n",
    "        print(page.status_code)\n",
    "        print(link)"
   ]
  },
  {
   "cell_type": "code",
   "execution_count": 9,
   "id": "415f7221-47a7-44c1-8ba9-ad0edad9788a",
   "metadata": {},
   "outputs": [
    {
     "name": "stderr",
     "output_type": "stream",
     "text": [
      "100%|██████████| 172/172 [16:43<00:00,  5.83s/it]\n"
     ]
    }
   ],
   "source": [
    "short_stories = dict()\n",
    "for link in tqdm(links):\n",
    "    title, content = get_content(link)\n",
    "    short_stories[title] = content"
   ]
  },
  {
   "cell_type": "code",
   "execution_count": 19,
   "id": "76384f14-baac-4169-809d-fb114d66ac75",
   "metadata": {},
   "outputs": [],
   "source": [
    "for title, text in short_stories.items():\n",
    "    # Replace spaces or special characters in title to make it filename-safe\n",
    "    safe_title = \"\".join(c if c.isalnum() else \"_\" for c in title)\n",
    "    \n",
    "    # Open a text file in write mode\n",
    "    with open(f\"{safe_title}.txt\", \"w\", encoding=\"utf-8\") as file:\n",
    "        # Write the title as the first line\n",
    "        file.write(title + \"\\n\\n\")  # Add extra line break after the title if desired\n",
    "        # Write the main text\n",
    "        file.write(text)"
   ]
  }
 ],
 "metadata": {
  "kernelspec": {
   "display_name": "Python [conda env:papa_project]",
   "language": "python",
   "name": "conda-env-papa_project-py"
  },
  "language_info": {
   "codemirror_mode": {
    "name": "ipython",
    "version": 3
   },
   "file_extension": ".py",
   "mimetype": "text/x-python",
   "name": "python",
   "nbconvert_exporter": "python",
   "pygments_lexer": "ipython3",
   "version": "3.11.8"
  }
 },
 "nbformat": 4,
 "nbformat_minor": 5
}
