{
 "cells": [
  {
   "cell_type": "markdown",
   "id": "c9b618ba-7418-4249-b2a8-eaa9de955af3",
   "metadata": {},
   "source": [
    "# Poems"
   ]
  },
  {
   "cell_type": "code",
   "execution_count": 1,
   "id": "2338d1d8-982b-4fa1-bb3d-954192b7e89e",
   "metadata": {},
   "outputs": [],
   "source": [
    "import pandas as pd\n",
    "from bs4 import BeautifulSoup\n",
    "import requests\n",
    "import time\n",
    "from tqdm import tqdm\n",
    "import re"
   ]
  },
  {
   "cell_type": "markdown",
   "id": "8a0beff9-9c50-4f7e-8920-176da1d5f813",
   "metadata": {},
   "source": [
    "## Poems"
   ]
  },
  {
   "cell_type": "code",
   "execution_count": 2,
   "id": "7d1dae6c-f251-49f8-ba2e-cb6fbd74117a",
   "metadata": {},
   "outputs": [
    {
     "data": {
      "text/plain": [
       "200"
      ]
     },
     "execution_count": 2,
     "metadata": {},
     "output_type": "execute_result"
    }
   ],
   "source": [
    "url = 'https://papadiamantis.net/aleksandros-papadiamantis/syggrafiko-ergo/poiimata/418-poiimata1#deisis-ranisma-k-t-n-psalm-n'\n",
    "\n",
    "page = requests.get(url)\n",
    "page.status_code"
   ]
  },
  {
   "cell_type": "code",
   "execution_count": 3,
   "id": "c9fa46e8-a66a-43b4-a818-9f16db1d2084",
   "metadata": {},
   "outputs": [],
   "source": [
    "soup = BeautifulSoup(page.content, 'html.parser')"
   ]
  },
  {
   "cell_type": "code",
   "execution_count": 19,
   "id": "751bb921-21bd-4380-94ad-a7112950cd84",
   "metadata": {
    "scrolled": true
   },
   "outputs": [
    {
     "data": {
      "text/plain": [
       "['ΔΕΗΣΙΣ (Ἐράνισμα ἐκ τῶν Ψαλμῶν)',\n",
       " 'Η ΕΚΠΤΩΤΟΣ ΨΥΧΗ',\n",
       " 'ΜΙΑ ΨΥΧΗ',\n",
       " 'Η ΚΟΙΜΑΜΕΝΗ ΒΑΣΙΛΟΠΟΥΛΑ',\n",
       " 'ΤΟ ΩΡΑΙΟΝ ΦΑΣΜΑ',\n",
       " 'ΕΙΣ ΤΟΥΣ ΑΔΕΛΦΟΥΣ ΓΙΑΝΝΑΚΗΝ ΚΑΙ ΚΩΣΤΗΝ Γ. ΡΑΦΤΑΚΗ',\n",
       " 'ΝΥΧΤΑ ΒΑΣΑΝΟΥ',\n",
       " 'ΕΙΣ ΤΗΝ ΜΝΗΜΗΝ ΤΟΥ ΕΠΑΜΕΙΝΩΝΔΑ ΔΕΛΗΓΕΩΡΓΗ',\n",
       " 'ΣΤΗΝ ΠΑΝΑΓΙΑ ΤΗΝ ΚΕΧΡΙΑ',\n",
       " 'ΣΤΗΝ ΠΑΝΑΓΙΑ ΤΗΝ ΚΟΥΝΙΣΤΡΑ',\n",
       " 'ΣΤΗΝ ΠΑΝΑΓΙΑ ΤΟΥ ΝΤΟΜΑΝ',\n",
       " 'ΣΤΗΝ ΠΑΝΑΓΙΤΣΑ ΣΤΟ ΠΥΡΓΙ',\n",
       " 'ΣΤΟΝ ΠΡΟΔΡΟΜΟΝ ΣΤΟΝ ΑΣΕΛΗΝΟ',\n",
       " 'ΣΤΗΝ ΠΑΝΑΓΙΑ ΤΗ ΣΑΛΟΝΙΚΙΑ',\n",
       " 'ΣΤΟΝ ΠΡΟΔΡΟΜΟΝ ΤΟΥ ΚΑΣΤΡΟΥ',\n",
       " '[ * ΣΤΟΝ ΧΡΙΣΤΟΝ ΤΟΥ ΚΑΣΤΡΟΥ]']"
      ]
     },
     "execution_count": 19,
     "metadata": {},
     "output_type": "execute_result"
    }
   ],
   "source": [
    "titles = [h.text for h in soup.find_all('h2', class_='rl_sliders-title')]\n",
    "titles"
   ]
  },
  {
   "cell_type": "code",
   "execution_count": 15,
   "id": "df63cbee-2601-4c0e-8f77-4a8c87dc8e1a",
   "metadata": {},
   "outputs": [
    {
     "name": "stdout",
     "output_type": "stream",
     "text": [
      "Πρὸς σὲ τὰς χεῖράς μου, πρὸς σὲ τοὺς ὀφθαλμούς μου αἴρω, τὰ φλέγοντά μου δάκρυα θυσίαν σοὶ προσφέρω· ἐτάκη ἡ καρδία μου, ὡσεὶ κηρός, ἐντός μου· ἐλέησόν με, ὁ Θεός, σπλαγχνίσου, ὁ Θεός μου.\n",
      "Εἶναι πολὺ τὸ πέλαγος, πολύ, τῶν οἰκτιρμῶν σου· ἡ προσευχή μου εἰς ναὸν φοιτᾷ τὸν ἅγιόν σου· εἰς κρίσιν μὲ τὸν δοῦλόν σου μὴ θέλῃς νὰ εἰσέλθῃς, πρὶν ἢ μὲ τὰ ἐλέη σου ἐπὶ τῆς γῆς κατέλθῃς.\n",
      "Ἡ δόξα σου ὡς οὐρανὸς ἀτέραμνος ἁπλοῦται· ἐνώπιόν σου, ὁ Θεός, θνητὸς δὲν δικαιοῦται· τὸ ὄνομά σου ἄπειρον πληροῖ τὴν οἰκουμένην· σὺ τὴν ψυχήν μου οἴκτειρον τὴν καταβεβλημένην.\n",
      "Ἡ ὕπαρξίς μου εἰς φθορὰν καὶ σκοτασμὸν κατέβη· κατέστην τῶν μισούντων με καὶ τῶν ἐχθρῶν μου χλεύη· οἱ συγγενεῖς μου μ᾿ ὕβριζον, μ᾿ ἐνέπαιζον οἱ φίλοι, τὰς κεφαλάς των σείοντες, λαλοῦντες μὲ τὰ χείλη.\n",
      "Καὶ πάντες οἱ θεώμενοι σκληρῶς μὲ κατηρῶντο, καὶ τόσα βέλη κατ᾿ ἐμοῦ καὶ ξίφη ἡμιλλῶντο· ὤ, πότε, πότε, Κύριε, θὰ παύσῃς τὴν ὀργήν σου; πᾶσαν αὐγὴν τὸ στόμα μου λαλεῖ τὴν αἴνεσίν σου.\n",
      "Ἀνωφελὴς ὁ βίος μου ἐνώπιόν σου ρέει· πᾶσα πνοὴ καὶ ὕπαρξις τὸ πρόσκαιρόν της κλαίει· εἷς λίθος εἰς οἰκοδομὴν ἂς ἤμην τοῦ ναοῦ σου καὶ ἂς ἤμην καίουσα λαμπὰς πρὸ τοῦ σεπτοῦ βωμοῦ σου.\n",
      "Οἱ οὐρανοὶ τὴν δόξαν σου σιγῶντες διηγοῦνται· πρὸς αἶνόν σου τὰ χείλη μου τὰ τρέμοντα κινοῦνται· πῶς ραγισμένη βάρβιτος θὰ βάλῃ ἁρμονίαν; καὶ πῶς ψυχὴ βαρυαλγὴς θὰ εἴπῃ μελῳδίαν;\n",
      "Τὸ πνεῦμά μου ἰλιγγιᾷ, ὦ Κτίστα τῶν αἰώνων, δὲν ἔχω ἀλλ᾿ ἢ δάκρυα νὰ σοὶ προσφέρω μόνον· ὡς τοῦ ἡλίου ἡ ἀκτὶς τὴν δρόσον καταπίνει, τὸ ἔλεός σου ἐκπεμφθὲν τὰ δάκρυά μου σβήνει.\n",
      "Πρὸς σὲ τὸν Πλάστην ἔκραξα ἐν συνοχῇ καρδίας, σκώληξ τῆς γῆς οἰκτρὸς ἐγὼ καὶ τέκνον ἀσθενείας· μὴ ἀποβάλῃς προσευχὴν ἐκ βάθους πεμπομένην καὶ μὴ ἀπώσῃ, ὁ Θεός, ψυχὴν συντετριμμένην.\n",
      "Ὤ, Κύριε, τίς ἐν Θεοῖς ὑπάρχει ὅμοιός σοι; καὶ τίς τὸ πλάσμα δύναται τῶν σῶν χειρῶν νὰ σώσῃ; ἂν παρὰ σοὶ εὐπρόσδεκτος δὲν εἶν᾿ ἡ προσευχή μου, ἂς ἀναλύσῃ εἰς πηγὰς δακρύων ἡ ψυχή μου.\n",
      "Πρὸς σὲ τὰς χεῖράς μου, πρὸς σὲ τοὺς ὀφθαλμούς μου αἴρω, τὰ φλέγοντά μου δάκρυα θυσίαν σοὶ προσφέρω· ἐτάκη ἡ καρδία μου, ὡσεὶ κηρός, ἐντός μου· ἐλέησόν με, ὁ Θεός, σπλαγχνίσου, ὁ Θεός μου.\n"
     ]
    }
   ],
   "source": [
    "print(\"\\n\".join([ p.text for p in soup.find_all('div', class_='accordion-inner')[0].find_all('p')[:-1] ]))"
   ]
  },
  {
   "cell_type": "code",
   "execution_count": 26,
   "id": "25d73da0-56c3-4167-853f-727835290846",
   "metadata": {},
   "outputs": [],
   "source": [
    "poems = dict()\n",
    "for title, div in zip(titles, soup.find_all('div', class_='accordion-inner')):\n",
    "    content = \"\\n\\n\".join([ p.text for p in div.find_all('p')[:-1] ])\n",
    "    poems[title] = content"
   ]
  },
  {
   "cell_type": "code",
   "execution_count": 27,
   "id": "92342aaf-3eba-43fb-a1b0-40bd621819a7",
   "metadata": {},
   "outputs": [
    {
     "data": {
      "text/plain": [
       "dict_keys(['ΔΕΗΣΙΣ (Ἐράνισμα ἐκ τῶν Ψαλμῶν)', 'Η ΕΚΠΤΩΤΟΣ ΨΥΧΗ', 'ΜΙΑ ΨΥΧΗ', 'Η ΚΟΙΜΑΜΕΝΗ ΒΑΣΙΛΟΠΟΥΛΑ', 'ΤΟ ΩΡΑΙΟΝ ΦΑΣΜΑ', 'ΕΙΣ ΤΟΥΣ ΑΔΕΛΦΟΥΣ ΓΙΑΝΝΑΚΗΝ ΚΑΙ ΚΩΣΤΗΝ Γ. ΡΑΦΤΑΚΗ', 'ΝΥΧΤΑ ΒΑΣΑΝΟΥ', 'ΕΙΣ ΤΗΝ ΜΝΗΜΗΝ ΤΟΥ ΕΠΑΜΕΙΝΩΝΔΑ ΔΕΛΗΓΕΩΡΓΗ', 'ΣΤΗΝ ΠΑΝΑΓΙΑ ΤΗΝ ΚΕΧΡΙΑ', 'ΣΤΗΝ ΠΑΝΑΓΙΑ ΤΗΝ ΚΟΥΝΙΣΤΡΑ', 'ΣΤΗΝ ΠΑΝΑΓΙΑ ΤΟΥ ΝΤΟΜΑΝ', 'ΣΤΗΝ ΠΑΝΑΓΙΤΣΑ ΣΤΟ ΠΥΡΓΙ', 'ΣΤΟΝ ΠΡΟΔΡΟΜΟΝ ΣΤΟΝ ΑΣΕΛΗΝΟ', 'ΣΤΗΝ ΠΑΝΑΓΙΑ ΤΗ ΣΑΛΟΝΙΚΙΑ', 'ΣΤΟΝ ΠΡΟΔΡΟΜΟΝ ΤΟΥ ΚΑΣΤΡΟΥ', '[ * ΣΤΟΝ ΧΡΙΣΤΟΝ ΤΟΥ ΚΑΣΤΡΟΥ]'])"
      ]
     },
     "execution_count": 27,
     "metadata": {},
     "output_type": "execute_result"
    }
   ],
   "source": [
    "poems.keys()"
   ]
  },
  {
   "cell_type": "code",
   "execution_count": 28,
   "id": "1cba1326-7497-4675-81d0-f2ea2f0492dd",
   "metadata": {},
   "outputs": [
    {
     "name": "stdout",
     "output_type": "stream",
     "text": [
      "Στὸ κέντρον τῆς ἐπάνω πόλεως μὲ τὸ καμπαναριό της, ποὺ εἶν᾿ ἕνα στολίδι τοῦ λιμένος καὶ τῆς προσόψεως, στέκει ὁ ναὸς τῆς Παναγίας.\n",
      "\n",
      "Ὡραῖος ὁ ναός, τὸ τέμπλο ὡραῖο, ὡραῖα τὰ λαμπρὰ τὰ εἰκονίσματα, ὡραῖες κ᾿ οἱ νορίτισσες ποὺ ἐκκλησιάζονται, ὅλα ὡραῖα.\n",
      "\n",
      "Στολισμένο τὸ τέμπλο μὲ χρυσὲς ποδιές, στολισμένος ὁ χορὸς καὶ τὰ στασίδια μὲ μυρτιὲς καὶ δάφνες, στολισμένες κ᾿ οἱ κόρες ποὺ πηγαίνουν νὰ ἐκκλησιασθοῦν στὴν Παναγία.\n",
      "\n",
      "Ἀριστερὰ στὸ τέμπλο στέκεται ἡ εἰκόνα σου ἡ μεγάλη † θεωρὸς † ὅλη ἀσημένια ὅλη, Παναγία μου, μὲ τ᾿ ἀσημοκάντηλά της.\n",
      "\n",
      "Ἀπάνω στὴν εἰκόν᾿ ἀφιερώματα κρέμονται, καραβάκια, γολετίτσες, καΐκια, βάρκες, μπάρκα τριοκάταρτα, ὅλ᾿ ἀφιερώματα τῶν πλοιάρχων.\n",
      "\n",
      "Κ᾿ οἱ καπεταναῖοι οἱ παλαιοὶ καθένας ἔχει στὸ ναὸ βαλμένο ἀπὸ ἕνα λίθο· καὶ καθένας ἔχει\n",
      "\n",
      "ἕνα στασίδι γύρω γύρω στὸ δεσποτικὸ καὶ γύρω γύρω στὸ παγκάρι, ὅλοι τους.\n",
      "\n",
      "Τάζουν στὴν Παναγία καὶ τοὺς δίνει καλὰ ταξίδια, γαληνιάζ᾿ ἡ θάλασσα ὅταν στὸ πέλαγο τὴν ἐπικαλεσθοῦν τὴν Παναγία τὴν Σαλονικιά.\n",
      "\n",
      "Ἄμποτε νά ᾿σαι βοηθός, Παρθένα μου, κ᾿ εἰς τοὺς χειμαζομένους εἰς τοῦ βίου τὰ βάσανα καὶ τὰς ἀνάγκας, ἄμποτε νὰ εἶσαι βοηθὸς καὶ σωτηρία.\n"
     ]
    }
   ],
   "source": [
    "print(poems['ΣΤΗΝ ΠΑΝΑΓΙΑ ΤΗ ΣΑΛΟΝΙΚΙΑ'])"
   ]
  },
  {
   "cell_type": "code",
   "execution_count": 29,
   "id": "323c87c3-0b3d-4e86-ae0e-65055ac02c91",
   "metadata": {},
   "outputs": [],
   "source": [
    "for title, text in poems.items():\n",
    "    # Replace spaces or special characters in title to make it filename-safe\n",
    "    safe_title = \"\".join(c if c.isalnum() else \"_\" for c in title)\n",
    "    \n",
    "    # Open a text file in write mode\n",
    "    with open(f\"{safe_title}.txt\", \"w\", encoding=\"utf-8\") as file:\n",
    "        # Write the title as the first line\n",
    "        file.write(title + \"\\n\\n\")  # Add extra line break after the title if desired\n",
    "        # Write the main text\n",
    "        file.write(text)"
   ]
  },
  {
   "cell_type": "markdown",
   "id": "9e198ed9-f14d-4b81-afb6-78288973e015",
   "metadata": {},
   "source": [
    "## Anthems"
   ]
  },
  {
   "cell_type": "code",
   "execution_count": 30,
   "id": "099eeb6c-7181-488b-939a-51bb1f208722",
   "metadata": {},
   "outputs": [
    {
     "data": {
      "text/plain": [
       "200"
      ]
     },
     "execution_count": 30,
     "metadata": {},
     "output_type": "execute_result"
    }
   ],
   "source": [
    "url = 'https://papadiamantis.net/aleksandros-papadiamantis/syggrafiko-ergo/poiimata/420-ymnografimata#akolouthia-tou-agiou-ieromartyros-antipa-episkopou-pergamou'\n",
    "\n",
    "page = requests.get(url)\n",
    "page.status_code"
   ]
  },
  {
   "cell_type": "code",
   "execution_count": 31,
   "id": "a4ce709a-0e38-4c96-803e-49ea30574cf1",
   "metadata": {},
   "outputs": [],
   "source": [
    "soup = BeautifulSoup(page.content, 'html.parser')"
   ]
  },
  {
   "cell_type": "code",
   "execution_count": 40,
   "id": "379fb30f-fa97-419a-b868-3a972feee38c",
   "metadata": {
    "scrolled": true
   },
   "outputs": [
    {
     "data": {
      "text/plain": [
       "['ΚΑΝΩΝ ΙΚΕΤΗΡΙΟΣ ΕΙΣ ΤΗΝ ΥΠΕΡΑΓΙΑΝ ΘΕΟΤΟΚΟΝ ΤΗΝ ΓΟΡΓΟΕΠΗΚΟΟΝ',\n",
       " 'ΚΑΝΩΝ ΙΚΕΤΗΡΙΟΣ ΕΙΣ ΤΟΝ ΟΣΙΟΝ ΔΙΟΝΥΣΙΟΝ ΤΟΝ ΕΝ ΟΛΥΜΠῼ',\n",
       " 'ΑΠΟΣΤΙΧΑ ΤΟΥ ΜΙΚΡΟΥ ΕΣΠΕΡΙΝΟΥ ΕΙΣ ΤΗΝ ΕΟΡΤΗΝ ΤΟΥ ΠΡΟΦΗΤΟΥ ΗΛΙΟΥ',\n",
       " 'ΑΚΟΛΟΥΘΙΑ ΤΟΥ ΑΓΙΟΥ ΙΕΡΟΜΑΡΤΥΡΟΣ ΑΝΤΙΠΑ, ΕΠΙΣΚΟΠΟΥ ΠΕΡΓΑΜΟΥ']"
      ]
     },
     "execution_count": 40,
     "metadata": {},
     "output_type": "execute_result"
    }
   ],
   "source": [
    "titles = [item.h2.text for item in soup.find_all('div', class_='accordion-inner')]\n",
    "titles"
   ]
  },
  {
   "cell_type": "code",
   "execution_count": 48,
   "id": "527915a5-c1a0-4e78-bf59-0ab778301411",
   "metadata": {},
   "outputs": [],
   "source": [
    "anthems = dict()\n",
    "for title, div in zip(titles, soup.find_all('div', class_='accordion-inner')):\n",
    "    content = div.text.strip()\n",
    "    content = re.sub(r'\\s*\\(\\d{4}\\)$', '', content)\n",
    "    anthems[title] = content"
   ]
  },
  {
   "cell_type": "code",
   "execution_count": 49,
   "id": "e13a563f-0deb-4009-a072-c2be0399d180",
   "metadata": {},
   "outputs": [
    {
     "data": {
      "text/plain": [
       "dict_keys(['ΚΑΝΩΝ ΙΚΕΤΗΡΙΟΣ ΕΙΣ ΤΗΝ ΥΠΕΡΑΓΙΑΝ ΘΕΟΤΟΚΟΝ ΤΗΝ ΓΟΡΓΟΕΠΗΚΟΟΝ', 'ΚΑΝΩΝ ΙΚΕΤΗΡΙΟΣ ΕΙΣ ΤΟΝ ΟΣΙΟΝ ΔΙΟΝΥΣΙΟΝ ΤΟΝ ΕΝ ΟΛΥΜΠῼ', 'ΑΠΟΣΤΙΧΑ ΤΟΥ ΜΙΚΡΟΥ ΕΣΠΕΡΙΝΟΥ ΕΙΣ ΤΗΝ ΕΟΡΤΗΝ ΤΟΥ ΠΡΟΦΗΤΟΥ ΗΛΙΟΥ', 'ΑΚΟΛΟΥΘΙΑ ΤΟΥ ΑΓΙΟΥ ΙΕΡΟΜΑΡΤΥΡΟΣ ΑΝΤΙΠΑ, ΕΠΙΣΚΟΠΟΥ ΠΕΡΓΑΜΟΥ'])"
      ]
     },
     "execution_count": 49,
     "metadata": {},
     "output_type": "execute_result"
    }
   ],
   "source": [
    "anthems.keys()"
   ]
  },
  {
   "cell_type": "code",
   "execution_count": 52,
   "id": "dc4cf6a6-8f7e-4028-8a9c-8010b79c6671",
   "metadata": {},
   "outputs": [],
   "source": [
    "for title, text in anthems.items():\n",
    "    # Replace spaces or special characters in title to make it filename-safe\n",
    "    safe_title = \"\".join(c if c.isalnum() else \"_\" for c in title)\n",
    "    \n",
    "    # Open a text file in write mode\n",
    "    with open(f\"{safe_title}.txt\", \"w\", encoding=\"utf-8\") as file:\n",
    "        # Write the main text\n",
    "        file.write(text)"
   ]
  }
 ],
 "metadata": {
  "kernelspec": {
   "display_name": "Python [conda env:papa_project]",
   "language": "python",
   "name": "conda-env-papa_project-py"
  },
  "language_info": {
   "codemirror_mode": {
    "name": "ipython",
    "version": 3
   },
   "file_extension": ".py",
   "mimetype": "text/x-python",
   "name": "python",
   "nbconvert_exporter": "python",
   "pygments_lexer": "ipython3",
   "version": "3.11.8"
  }
 },
 "nbformat": 4,
 "nbformat_minor": 5
}
