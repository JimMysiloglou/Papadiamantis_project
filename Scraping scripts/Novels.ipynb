{
 "cells": [
  {
   "cell_type": "markdown",
   "id": "d37b6a03-67b0-40fe-b9f2-a40faab3f7c6",
   "metadata": {},
   "source": [
    "# Novels"
   ]
  },
  {
   "cell_type": "code",
   "execution_count": 1,
   "id": "afa6dd80-139b-47e9-934a-f42a5164d8b2",
   "metadata": {},
   "outputs": [],
   "source": [
    "import pandas as pd\n",
    "from bs4 import BeautifulSoup\n",
    "import requests\n",
    "import time\n",
    "from tqdm import tqdm\n",
    "import re"
   ]
  },
  {
   "cell_type": "markdown",
   "id": "bc78c36e-31b0-4c1c-9d47-95e1fca911c3",
   "metadata": {},
   "source": [
    "## Novel links"
   ]
  },
  {
   "cell_type": "code",
   "execution_count": 2,
   "id": "7c943366-8e90-4179-9ec5-a03ab0991642",
   "metadata": {},
   "outputs": [
    {
     "data": {
      "text/plain": [
       "200"
      ]
     },
     "execution_count": 2,
     "metadata": {},
     "output_type": "execute_result"
    }
   ],
   "source": [
    "url = 'https://papadiamantis.net'\n",
    "\n",
    "page = requests.get(url + '/aleksandros-papadiamantis/syggrafiko-ergo/mythistorimata')\n",
    "page.status_code"
   ]
  },
  {
   "cell_type": "code",
   "execution_count": 3,
   "id": "179b9d79-b1ba-431f-a411-bd2ee66716b5",
   "metadata": {},
   "outputs": [],
   "source": [
    "soup = BeautifulSoup(page.content, 'html.parser')"
   ]
  },
  {
   "cell_type": "code",
   "execution_count": 4,
   "id": "62d7bc80-44e5-4aa9-acbd-a5a84257cc73",
   "metadata": {},
   "outputs": [
    {
     "data": {
      "text/plain": [
       "['/aleksandros-papadiamantis/syggrafiko-ergo/mythistorimata/389-metanastis-1879',\n",
       " '/aleksandros-papadiamantis/syggrafiko-ergo/mythistorimata/390-o-mporoi-t-n-thn-n-1882',\n",
       " '/aleksandros-papadiamantis/syggrafiko-ergo/mythistorimata/387-gyftopoyla-meros-i-1884',\n",
       " '/aleksandros-papadiamantis/syggrafiko-ergo/mythistorimata/388-gyftopoyla-meros-ii-1884']"
      ]
     },
     "execution_count": 4,
     "metadata": {},
     "output_type": "execute_result"
    }
   ],
   "source": [
    "links = [item.find('a')['href'] for item in soup.find_all('div', class_='el-item')]\n",
    "links"
   ]
  },
  {
   "cell_type": "markdown",
   "id": "c1516548-57da-4e02-bcd4-e94edf1517cb",
   "metadata": {},
   "source": [
    "## Get the content"
   ]
  },
  {
   "cell_type": "code",
   "execution_count": 5,
   "id": "1c0bcd10-81f8-4b00-96ae-e472b175ace0",
   "metadata": {},
   "outputs": [],
   "source": [
    "def get_content(link):\n",
    "    time.sleep(5)\n",
    "    page = requests.get(url + link)\n",
    "    if page.status_code == 200:\n",
    "        soup = BeautifulSoup(page.content, 'html.parser')\n",
    "        title = soup.find('div', class_='uk-width-3-4@m').find('h1').text.strip()\n",
    "        content = soup.find('div', id='template-nUDsG6AM#0').find_all(['p', 'h2'])\n",
    "        content = \"\\n\".join([item.text for item in content]).split(\"ΣΗΜΕΙΩΣΕΙΣ\")[0].split('Συνέχεια...')[0].strip()\n",
    "        # Replace sequences of more than two newlines with just two newlines\n",
    "        content = re.sub(r'\\n{3,}', '\\n\\n', content)\n",
    "        # Remove all instances of the Unicode thin space character \\u2009\n",
    "        content = content.replace(\"\\u2009\", \"\")\n",
    "        return title, content\n",
    "    else:\n",
    "        print(page.status_code)\n",
    "        print(link)"
   ]
  },
  {
   "cell_type": "code",
   "execution_count": 6,
   "id": "66b16cb4-64bd-43ac-9962-44cb72127c5b",
   "metadata": {},
   "outputs": [
    {
     "name": "stderr",
     "output_type": "stream",
     "text": [
      "100%|██████████| 4/4 [00:25<00:00,  6.43s/it]\n"
     ]
    }
   ],
   "source": [
    "novels = dict()\n",
    "for link in tqdm(links):\n",
    "    title, content = get_content(link)\n",
    "    novels[title] = content"
   ]
  },
  {
   "cell_type": "code",
   "execution_count": 7,
   "id": "cf9bb693-8faa-4bf1-a750-ebd111ac903c",
   "metadata": {},
   "outputs": [
    {
     "data": {
      "text/plain": [
       "dict_keys(['Ἡ Μετανάστις (1879)', 'Οἱ Ἔμποροι τῶν ἐθνῶν (1882)', 'Ἡ Γυφτοπούλα [μέρος I] (1884)', 'Ἡ Γυφτοπούλα [μέρος ΙΙ] (1884)'])"
      ]
     },
     "execution_count": 7,
     "metadata": {},
     "output_type": "execute_result"
    }
   ],
   "source": [
    "novels.keys()"
   ]
  },
  {
   "cell_type": "code",
   "execution_count": 8,
   "id": "21bf21f3-64b5-4e7a-8abe-e77102c9f3b5",
   "metadata": {},
   "outputs": [],
   "source": [
    "novels['Ἡ Γυφτοπούλα (1884)'] = novels['Ἡ Γυφτοπούλα [μέρος I] (1884)'] + novels['Ἡ Γυφτοπούλα [μέρος ΙΙ] (1884)']"
   ]
  },
  {
   "cell_type": "code",
   "execution_count": 9,
   "id": "c6d61932-c99b-4ac2-a025-ea73b575aecf",
   "metadata": {},
   "outputs": [
    {
     "data": {
      "text/plain": [
       "dict_keys(['Ἡ Μετανάστις (1879)', 'Οἱ Ἔμποροι τῶν ἐθνῶν (1882)', 'Ἡ Γυφτοπούλα [μέρος I] (1884)', 'Ἡ Γυφτοπούλα [μέρος ΙΙ] (1884)', 'Ἡ Γυφτοπούλα (1884)'])"
      ]
     },
     "execution_count": 9,
     "metadata": {},
     "output_type": "execute_result"
    }
   ],
   "source": [
    "novels.keys()"
   ]
  },
  {
   "cell_type": "code",
   "execution_count": 10,
   "id": "bb8d721f-9ee7-4d0a-b333-5e357acb207d",
   "metadata": {},
   "outputs": [],
   "source": [
    "del novels['Ἡ Γυφτοπούλα [μέρος I] (1884)']\n",
    "del novels['Ἡ Γυφτοπούλα [μέρος ΙΙ] (1884)']"
   ]
  },
  {
   "cell_type": "code",
   "execution_count": 11,
   "id": "d36f5ae2-8471-40ca-b4ad-d41120a0f6ec",
   "metadata": {},
   "outputs": [
    {
     "data": {
      "text/plain": [
       "dict_keys(['Ἡ Μετανάστις (1879)', 'Οἱ Ἔμποροι τῶν ἐθνῶν (1882)', 'Ἡ Γυφτοπούλα (1884)'])"
      ]
     },
     "execution_count": 11,
     "metadata": {},
     "output_type": "execute_result"
    }
   ],
   "source": [
    "novels.keys()"
   ]
  },
  {
   "cell_type": "code",
   "execution_count": 12,
   "id": "5dfb6bc4-877e-4000-a6ee-db63e1b774f6",
   "metadata": {},
   "outputs": [],
   "source": [
    "for title, text in novels.items():\n",
    "    # Replace spaces or special characters in title to make it filename-safe\n",
    "    safe_title = \"\".join(c if c.isalnum() else \"_\" for c in title)\n",
    "    \n",
    "    # Open a text file in write mode\n",
    "    with open(f\"{safe_title}.txt\", \"w\", encoding=\"utf-8\") as file:\n",
    "        # Write the title as the first line\n",
    "        file.write(title + \"\\n\\n\")  # Add extra line break after the title if desired\n",
    "        # Write the main text\n",
    "        file.write(text)"
   ]
  },
  {
   "cell_type": "code",
   "execution_count": null,
   "id": "50ba0003-343a-4308-a540-0eede3371937",
   "metadata": {},
   "outputs": [],
   "source": []
  }
 ],
 "metadata": {
  "kernelspec": {
   "display_name": "Python [conda env:papa_project]",
   "language": "python",
   "name": "conda-env-papa_project-py"
  },
  "language_info": {
   "codemirror_mode": {
    "name": "ipython",
    "version": 3
   },
   "file_extension": ".py",
   "mimetype": "text/x-python",
   "name": "python",
   "nbconvert_exporter": "python",
   "pygments_lexer": "ipython3",
   "version": "3.11.8"
  }
 },
 "nbformat": 4,
 "nbformat_minor": 5
}
