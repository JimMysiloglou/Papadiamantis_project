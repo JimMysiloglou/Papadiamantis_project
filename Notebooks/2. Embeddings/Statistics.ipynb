{
 "cells": [
  {
   "cell_type": "markdown",
   "id": "3c8eb564",
   "metadata": {},
   "source": [
    "# Papadiamantis Texts"
   ]
  },
  {
   "cell_type": "code",
   "execution_count": 1,
   "id": "085ce1c7",
   "metadata": {},
   "outputs": [],
   "source": [
    "import matplotlib.pyplot as plt\n",
    "import seaborn as sns\n",
    "import pandas as pd\n",
    "\n",
    "sns.set_theme(context='notebook', style='ticks')\n",
    "\n",
    "import sys\n",
    "import os\n",
    "\n",
    "module_path = os.path.abspath('/home/jmisi/Data Science/Papadiamantis_project/Notebooks')\n",
    "if module_path not in sys.path:\n",
    "    sys.path.append(module_path)\n",
    "\n",
    "from loading_documents import directory_to_documents, num_tokens_from_string"
   ]
  },
  {
   "cell_type": "markdown",
   "id": "98462fbd",
   "metadata": {},
   "source": [
    "## Text statistics"
   ]
  },
  {
   "cell_type": "code",
   "execution_count": 2,
   "id": "fa3e4e8a",
   "metadata": {},
   "outputs": [
    {
     "name": "stderr",
     "output_type": "stream",
     "text": [
      "0it [00:00, ?it/s]\n",
      "0it [00:00, ?it/s]\n",
      "100%|██████████| 20/20 [00:00<00:00, 2790.16it/s]\n",
      "100%|██████████| 3/3 [00:00<00:00, 2790.62it/s]\n",
      "100%|██████████| 5/5 [00:00<00:00, 5748.77it/s]\n",
      "100%|██████████| 8/8 [00:00<00:00, 4600.91it/s]\n",
      "100%|██████████| 12/12 [00:00<00:00, 7569.81it/s]\n",
      "100%|██████████| 13/13 [00:00<00:00, 3250.04it/s]\n",
      "100%|██████████| 9/9 [00:00<00:00, 6976.30it/s]\n",
      "0it [00:00, ?it/s]\n",
      "100%|██████████| 4/4 [00:00<00:00, 2043.76it/s]\n",
      "0it [00:00, ?it/s]\n",
      "100%|██████████| 1/1 [00:00<00:00, 2916.76it/s]\n",
      "100%|██████████| 16/16 [00:00<00:00, 9381.92it/s]\n",
      "100%|██████████| 3/3 [00:00<00:00, 77.17it/s]\n",
      "100%|██████████| 172/172 [00:00<00:00, 2194.30it/s]\n"
     ]
    },
    {
     "data": {
      "text/plain": [
       "dict_keys(['Άρθρα', 'Ποιήματα', 'Μυθιστορήματα', 'Διηγήματα'])"
      ]
     },
     "execution_count": 2,
     "metadata": {},
     "output_type": "execute_result"
    }
   ],
   "source": [
    "directory_path = \"/home/jmisi/Data Science/Papadiamantis_project/Notebooks/1. Scraping/texts\"\n",
    "documents = directory_to_documents(directory_path, split_chapters=False)\n",
    "documents.keys()"
   ]
  },
  {
   "cell_type": "code",
   "execution_count": 3,
   "id": "46bca024",
   "metadata": {},
   "outputs": [
    {
     "name": "stdout",
     "output_type": "stream",
     "text": [
      "<class 'pandas.core.frame.DataFrame'>\n",
      "Index: 266 entries, 0 to 171\n",
      "Data columns (total 7 columns):\n",
      " #   Column      Non-Null Count  Dtype \n",
      "---  ------      --------------  ----- \n",
      " 0   type        266 non-null    object\n",
      " 1   theme       266 non-null    object\n",
      " 2   title       266 non-null    object\n",
      " 3   year        266 non-null    int64 \n",
      " 4   Κείμενο     266 non-null    object\n",
      " 5   tokens      266 non-null    int64 \n",
      " 6   characters  266 non-null    int64 \n",
      "dtypes: int64(3), object(4)\n",
      "memory usage: 16.6+ KB\n"
     ]
    },
    {
     "data": {
      "text/html": [
       "<div>\n",
       "<style scoped>\n",
       "    .dataframe tbody tr th:only-of-type {\n",
       "        vertical-align: middle;\n",
       "    }\n",
       "\n",
       "    .dataframe tbody tr th {\n",
       "        vertical-align: top;\n",
       "    }\n",
       "\n",
       "    .dataframe thead th {\n",
       "        text-align: right;\n",
       "    }\n",
       "</style>\n",
       "<table border=\"1\" class=\"dataframe\">\n",
       "  <thead>\n",
       "    <tr style=\"text-align: right;\">\n",
       "      <th></th>\n",
       "      <th>type</th>\n",
       "      <th>theme</th>\n",
       "      <th>title</th>\n",
       "      <th>year</th>\n",
       "      <th>Κείμενο</th>\n",
       "      <th>tokens</th>\n",
       "      <th>characters</th>\n",
       "    </tr>\n",
       "  </thead>\n",
       "  <tbody>\n",
       "    <tr>\n",
       "      <th>0</th>\n",
       "      <td>Άρθρα</td>\n",
       "      <td>Θρησκευτικά</td>\n",
       "      <td>ΤΑ ΑΓΙΑ ΘΕΟΦΑΝΕΙΑ</td>\n",
       "      <td>0</td>\n",
       "      <td>Περὶ τοῦ βίου τοῦ Ι. Χριστοῦ μέχρι τοῦ τριακοσ...</td>\n",
       "      <td>4723</td>\n",
       "      <td>4159</td>\n",
       "    </tr>\n",
       "    <tr>\n",
       "      <th>1</th>\n",
       "      <td>Άρθρα</td>\n",
       "      <td>Θρησκευτικά</td>\n",
       "      <td>ΧΡΙΣΤΟΥΓΕΝΝΑ</td>\n",
       "      <td>0</td>\n",
       "      <td>Ἐὰν τὸ Πάσχα εἶναι ἡ λαμπροτάτη τοῦ Χριστιανισ...</td>\n",
       "      <td>5593</td>\n",
       "      <td>4950</td>\n",
       "    </tr>\n",
       "    <tr>\n",
       "      <th>2</th>\n",
       "      <td>Άρθρα</td>\n",
       "      <td>Θρησκευτικά</td>\n",
       "      <td>Η ΕΒΔΟΜΑΣ ΤΗΣ ΔΙΑΚΑΙΝΗΣΙΜΟΥ</td>\n",
       "      <td>0</td>\n",
       "      <td>Ἀπὸ τῆς σήμερον, ἢ μᾶλλον ἀπὸ τῆς χθές, ἀρχίζε...</td>\n",
       "      <td>3197</td>\n",
       "      <td>2805</td>\n",
       "    </tr>\n",
       "    <tr>\n",
       "      <th>3</th>\n",
       "      <td>Άρθρα</td>\n",
       "      <td>Θρησκευτικά</td>\n",
       "      <td>ΤΑ ΜΝΗΜΟΣΥΝΑ ΚΑΙ ΤΟ ΚΑΘΑΡΤΗΡΙΟΝ</td>\n",
       "      <td>0</td>\n",
       "      <td>Λίαν ἀξιοπρεπῶς ἀπήντησεν ὁ αἰδ. δὸμ Παῦλος εἰ...</td>\n",
       "      <td>4575</td>\n",
       "      <td>4019</td>\n",
       "    </tr>\n",
       "    <tr>\n",
       "      <th>4</th>\n",
       "      <td>Άρθρα</td>\n",
       "      <td>Θρησκευτικά</td>\n",
       "      <td>ΤΕΛΕΥΤΑΙΑ ΑΠΑΝΤΗΣΙΣ ΕΙΣ ΤΟΝ «ΛΟΓΟΝ»</td>\n",
       "      <td>0</td>\n",
       "      <td>Διὰ σᾶς καὶ τοὺς ὁμοίους σας ἐγράφη τό, «Θυμὸς...</td>\n",
       "      <td>1780</td>\n",
       "      <td>1542</td>\n",
       "    </tr>\n",
       "  </tbody>\n",
       "</table>\n",
       "</div>"
      ],
      "text/plain": [
       "    type        theme                                title  year  \\\n",
       "0  Άρθρα  Θρησκευτικά                    ΤΑ ΑΓΙΑ ΘΕΟΦΑΝΕΙΑ     0   \n",
       "1  Άρθρα  Θρησκευτικά                         ΧΡΙΣΤΟΥΓΕΝΝΑ     0   \n",
       "2  Άρθρα  Θρησκευτικά          Η ΕΒΔΟΜΑΣ ΤΗΣ ΔΙΑΚΑΙΝΗΣΙΜΟΥ     0   \n",
       "3  Άρθρα  Θρησκευτικά      ΤΑ ΜΝΗΜΟΣΥΝΑ ΚΑΙ ΤΟ ΚΑΘΑΡΤΗΡΙΟΝ     0   \n",
       "4  Άρθρα  Θρησκευτικά  ΤΕΛΕΥΤΑΙΑ ΑΠΑΝΤΗΣΙΣ ΕΙΣ ΤΟΝ «ΛΟΓΟΝ»     0   \n",
       "\n",
       "                                             Κείμενο  tokens  characters  \n",
       "0  Περὶ τοῦ βίου τοῦ Ι. Χριστοῦ μέχρι τοῦ τριακοσ...    4723        4159  \n",
       "1  Ἐὰν τὸ Πάσχα εἶναι ἡ λαμπροτάτη τοῦ Χριστιανισ...    5593        4950  \n",
       "2  Ἀπὸ τῆς σήμερον, ἢ μᾶλλον ἀπὸ τῆς χθές, ἀρχίζε...    3197        2805  \n",
       "3  Λίαν ἀξιοπρεπῶς ἀπήντησεν ὁ αἰδ. δὸμ Παῦλος εἰ...    4575        4019  \n",
       "4  Διὰ σᾶς καὶ τοὺς ὁμοίους σας ἐγράφη τό, «Θυμὸς...    1780        1542  "
      ]
     },
     "execution_count": 3,
     "metadata": {},
     "output_type": "execute_result"
    }
   ],
   "source": [
    "texts_df = pd.DataFrame()\n",
    "for key in documents.keys():\n",
    "    df = pd.DataFrame([doc.metadata for doc in documents[key]])\n",
    "    df['Κείμενο'] = [doc.page_content for doc in documents[key]]\n",
    "    df['tokens'] = df['Κείμενο'].map(num_tokens_from_string)\n",
    "    df['characters'] = df['Κείμενο'].map(len)\n",
    "    texts_df = pd.concat([texts_df, df])\n",
    "\n",
    "texts_df.info()\n",
    "texts_df.head()"
   ]
  },
  {
   "cell_type": "code",
   "execution_count": 4,
   "id": "9220f57a",
   "metadata": {},
   "outputs": [
    {
     "data": {
      "text/html": [
       "<style type=\"text/css\">\n",
       "#T_6c8c5_row0_col0, #T_6c8c5_row1_col0, #T_6c8c5_row2_col0, #T_6c8c5_row3_col0 {\n",
       "  width: 100px;\n",
       "}\n",
       "</style>\n",
       "<table id=\"T_6c8c5\">\n",
       "  <thead>\n",
       "    <tr>\n",
       "      <th class=\"blank level0\" >&nbsp;</th>\n",
       "      <th id=\"T_6c8c5_level0_col0\" class=\"col_heading level0 col0\" >#</th>\n",
       "    </tr>\n",
       "    <tr>\n",
       "      <th class=\"index_name level0\" >Κειμενικά είδη</th>\n",
       "      <th class=\"blank col0\" >&nbsp;</th>\n",
       "    </tr>\n",
       "  </thead>\n",
       "  <tbody>\n",
       "    <tr>\n",
       "      <th id=\"T_6c8c5_level0_row0\" class=\"row_heading level0 row0\" >Διηγήματα</th>\n",
       "      <td id=\"T_6c8c5_row0_col0\" class=\"data row0 col0\" >172</td>\n",
       "    </tr>\n",
       "    <tr>\n",
       "      <th id=\"T_6c8c5_level0_row1\" class=\"row_heading level0 row1\" >Άρθρα</th>\n",
       "      <td id=\"T_6c8c5_row1_col0\" class=\"data row1 col0\" >70</td>\n",
       "    </tr>\n",
       "    <tr>\n",
       "      <th id=\"T_6c8c5_level0_row2\" class=\"row_heading level0 row2\" >Ποιήματα</th>\n",
       "      <td id=\"T_6c8c5_row2_col0\" class=\"data row2 col0\" >21</td>\n",
       "    </tr>\n",
       "    <tr>\n",
       "      <th id=\"T_6c8c5_level0_row3\" class=\"row_heading level0 row3\" >Μυθιστορήματα</th>\n",
       "      <td id=\"T_6c8c5_row3_col0\" class=\"data row3 col0\" >3</td>\n",
       "    </tr>\n",
       "  </tbody>\n",
       "</table>\n"
      ],
      "text/plain": [
       "<pandas.io.formats.style.Styler at 0x72f6cc9d8d10>"
      ]
     },
     "execution_count": 4,
     "metadata": {},
     "output_type": "execute_result"
    }
   ],
   "source": [
    "texts_df.type.value_counts().to_frame().rename_axis('Κειμενικά είδη').rename(columns={'count':'#'}).style.set_properties(**{'width': '100px'})"
   ]
  },
  {
   "cell_type": "code",
   "execution_count": 5,
   "id": "7251e52c",
   "metadata": {},
   "outputs": [
    {
     "data": {
      "text/html": [
       "<style type=\"text/css\">\n",
       "</style>\n",
       "<table id=\"T_52faa\">\n",
       "  <thead>\n",
       "    <tr>\n",
       "      <th class=\"blank level0\" >&nbsp;</th>\n",
       "      <th id=\"T_52faa_level0_col0\" class=\"col_heading level0 col0\" >average</th>\n",
       "      <th id=\"T_52faa_level0_col1\" class=\"col_heading level0 col1\" >median</th>\n",
       "      <th id=\"T_52faa_level0_col2\" class=\"col_heading level0 col2\" >min</th>\n",
       "      <th id=\"T_52faa_level0_col3\" class=\"col_heading level0 col3\" >max</th>\n",
       "    </tr>\n",
       "    <tr>\n",
       "      <th class=\"index_name level0\" >Διηγήματα</th>\n",
       "      <th class=\"blank col0\" >&nbsp;</th>\n",
       "      <th class=\"blank col1\" >&nbsp;</th>\n",
       "      <th class=\"blank col2\" >&nbsp;</th>\n",
       "      <th class=\"blank col3\" >&nbsp;</th>\n",
       "    </tr>\n",
       "  </thead>\n",
       "  <tbody>\n",
       "    <tr>\n",
       "      <th id=\"T_52faa_level0_row0\" class=\"row_heading level0 row0\" >year</th>\n",
       "      <td id=\"T_52faa_row0_col0\" class=\"data row0 col0\" >1.904</td>\n",
       "      <td id=\"T_52faa_row0_col1\" class=\"data row0 col1\" >1.904</td>\n",
       "      <td id=\"T_52faa_row0_col2\" class=\"data row0 col2\" >1.885</td>\n",
       "      <td id=\"T_52faa_row0_col3\" class=\"data row0 col3\" >1.954</td>\n",
       "    </tr>\n",
       "    <tr>\n",
       "      <th id=\"T_52faa_level0_row1\" class=\"row_heading level0 row1\" >tokens</th>\n",
       "      <td id=\"T_52faa_row1_col0\" class=\"data row1 col0\" >17.994</td>\n",
       "      <td id=\"T_52faa_row1_col1\" class=\"data row1 col1\" >11.431</td>\n",
       "      <td id=\"T_52faa_row1_col2\" class=\"data row1 col2\" >2.972</td>\n",
       "      <td id=\"T_52faa_row1_col3\" class=\"data row1 col3\" >204.388</td>\n",
       "    </tr>\n",
       "    <tr>\n",
       "      <th id=\"T_52faa_level0_row2\" class=\"row_heading level0 row2\" >characters</th>\n",
       "      <td id=\"T_52faa_row2_col0\" class=\"data row2 col0\" >16.028</td>\n",
       "      <td id=\"T_52faa_row2_col1\" class=\"data row2 col1\" >10.214</td>\n",
       "      <td id=\"T_52faa_row2_col2\" class=\"data row2 col2\" >2.640</td>\n",
       "      <td id=\"T_52faa_row2_col3\" class=\"data row2 col3\" >181.540</td>\n",
       "    </tr>\n",
       "  </tbody>\n",
       "</table>\n"
      ],
      "text/plain": [
       "<pandas.io.formats.style.Styler at 0x72f66c1d40d0>"
      ]
     },
     "execution_count": 5,
     "metadata": {},
     "output_type": "execute_result"
    }
   ],
   "source": [
    "texts_df[ texts_df.type == 'Διηγήματα' ].describe().T[['mean', '50%', 'min', 'max']].rename(columns={'mean': 'average', '50%': 'median'}).rename_axis('Διηγήματα').style.format(precision=0, thousands=\".\")"
   ]
  },
  {
   "cell_type": "code",
   "execution_count": 6,
   "id": "411ea5f9",
   "metadata": {},
   "outputs": [
    {
     "data": {
      "text/html": [
       "<style type=\"text/css\">\n",
       "</style>\n",
       "<table id=\"T_a4705\">\n",
       "  <thead>\n",
       "    <tr>\n",
       "      <th class=\"blank level0\" >&nbsp;</th>\n",
       "      <th id=\"T_a4705_level0_col0\" class=\"col_heading level0 col0\" >average</th>\n",
       "      <th id=\"T_a4705_level0_col1\" class=\"col_heading level0 col1\" >median</th>\n",
       "      <th id=\"T_a4705_level0_col2\" class=\"col_heading level0 col2\" >min</th>\n",
       "      <th id=\"T_a4705_level0_col3\" class=\"col_heading level0 col3\" >max</th>\n",
       "    </tr>\n",
       "    <tr>\n",
       "      <th class=\"index_name level0\" >Άρθρα</th>\n",
       "      <th class=\"blank col0\" >&nbsp;</th>\n",
       "      <th class=\"blank col1\" >&nbsp;</th>\n",
       "      <th class=\"blank col2\" >&nbsp;</th>\n",
       "      <th class=\"blank col3\" >&nbsp;</th>\n",
       "    </tr>\n",
       "  </thead>\n",
       "  <tbody>\n",
       "    <tr>\n",
       "      <th id=\"T_a4705_level0_row0\" class=\"row_heading level0 row0\" >tokens</th>\n",
       "      <td id=\"T_a4705_row0_col0\" class=\"data row0 col0\" >6.543</td>\n",
       "      <td id=\"T_a4705_row0_col1\" class=\"data row0 col1\" >4.360</td>\n",
       "      <td id=\"T_a4705_row0_col2\" class=\"data row0 col2\" >120</td>\n",
       "      <td id=\"T_a4705_row0_col3\" class=\"data row0 col3\" >31.800</td>\n",
       "    </tr>\n",
       "    <tr>\n",
       "      <th id=\"T_a4705_level0_row1\" class=\"row_heading level0 row1\" >characters</th>\n",
       "      <td id=\"T_a4705_row1_col0\" class=\"data row1 col0\" >5.810</td>\n",
       "      <td id=\"T_a4705_row1_col1\" class=\"data row1 col1\" >3.877</td>\n",
       "      <td id=\"T_a4705_row1_col2\" class=\"data row1 col2\" >90</td>\n",
       "      <td id=\"T_a4705_row1_col3\" class=\"data row1 col3\" >28.237</td>\n",
       "    </tr>\n",
       "  </tbody>\n",
       "</table>\n"
      ],
      "text/plain": [
       "<pandas.io.formats.style.Styler at 0x72f663d7e190>"
      ]
     },
     "execution_count": 6,
     "metadata": {},
     "output_type": "execute_result"
    }
   ],
   "source": [
    "texts_df[ texts_df.type == 'Άρθρα' ].describe()[['tokens', 'characters']].T[['mean', '50%', 'min', 'max']].rename(columns={'mean': 'average', '50%': 'median'}).rename_axis('Άρθρα').style.format(precision=0, thousands=\".\")"
   ]
  },
  {
   "cell_type": "code",
   "execution_count": 7,
   "id": "9fd9f0b6",
   "metadata": {},
   "outputs": [
    {
     "data": {
      "text/html": [
       "<style type=\"text/css\">\n",
       "</style>\n",
       "<table id=\"T_17ae7\">\n",
       "  <thead>\n",
       "    <tr>\n",
       "      <th class=\"blank level0\" >&nbsp;</th>\n",
       "      <th id=\"T_17ae7_level0_col0\" class=\"col_heading level0 col0\" >average</th>\n",
       "      <th id=\"T_17ae7_level0_col1\" class=\"col_heading level0 col1\" >median</th>\n",
       "      <th id=\"T_17ae7_level0_col2\" class=\"col_heading level0 col2\" >min</th>\n",
       "      <th id=\"T_17ae7_level0_col3\" class=\"col_heading level0 col3\" >max</th>\n",
       "    </tr>\n",
       "    <tr>\n",
       "      <th class=\"index_name level0\" >Ποιήματα</th>\n",
       "      <th class=\"blank col0\" >&nbsp;</th>\n",
       "      <th class=\"blank col1\" >&nbsp;</th>\n",
       "      <th class=\"blank col2\" >&nbsp;</th>\n",
       "      <th class=\"blank col3\" >&nbsp;</th>\n",
       "    </tr>\n",
       "  </thead>\n",
       "  <tbody>\n",
       "    <tr>\n",
       "      <th id=\"T_17ae7_level0_row0\" class=\"row_heading level0 row0\" >tokens</th>\n",
       "      <td id=\"T_17ae7_row0_col0\" class=\"data row0 col0\" >2.383</td>\n",
       "      <td id=\"T_17ae7_row0_col1\" class=\"data row0 col1\" >1.198</td>\n",
       "      <td id=\"T_17ae7_row0_col2\" class=\"data row0 col2\" >169</td>\n",
       "      <td id=\"T_17ae7_row0_col3\" class=\"data row0 col3\" >21.437</td>\n",
       "    </tr>\n",
       "    <tr>\n",
       "      <th id=\"T_17ae7_level0_row1\" class=\"row_heading level0 row1\" >characters</th>\n",
       "      <td id=\"T_17ae7_row1_col0\" class=\"data row1 col0\" >2.142</td>\n",
       "      <td id=\"T_17ae7_row1_col1\" class=\"data row1 col1\" >1.112</td>\n",
       "      <td id=\"T_17ae7_row1_col2\" class=\"data row1 col2\" >147</td>\n",
       "      <td id=\"T_17ae7_row1_col3\" class=\"data row1 col3\" >18.965</td>\n",
       "    </tr>\n",
       "  </tbody>\n",
       "</table>\n"
      ],
      "text/plain": [
       "<pandas.io.formats.style.Styler at 0x72f663d35cd0>"
      ]
     },
     "execution_count": 7,
     "metadata": {},
     "output_type": "execute_result"
    }
   ],
   "source": [
    "texts_df[ texts_df.type == 'Ποιήματα' ].describe()[['tokens', 'characters']].T[['mean', '50%', 'min', 'max']].rename(columns={'mean': 'average', '50%': 'median'}).rename_axis('Ποιήματα').style.format(precision=0, thousands=\".\")"
   ]
  },
  {
   "cell_type": "code",
   "execution_count": 8,
   "id": "40281cae",
   "metadata": {},
   "outputs": [
    {
     "data": {
      "text/html": [
       "<style type=\"text/css\">\n",
       "</style>\n",
       "<table id=\"T_4bfd6\">\n",
       "  <thead>\n",
       "    <tr>\n",
       "      <th class=\"blank level0\" >&nbsp;</th>\n",
       "      <th id=\"T_4bfd6_level0_col0\" class=\"col_heading level0 col0\" >average</th>\n",
       "      <th id=\"T_4bfd6_level0_col1\" class=\"col_heading level0 col1\" >median</th>\n",
       "      <th id=\"T_4bfd6_level0_col2\" class=\"col_heading level0 col2\" >min</th>\n",
       "      <th id=\"T_4bfd6_level0_col3\" class=\"col_heading level0 col3\" >max</th>\n",
       "    </tr>\n",
       "    <tr>\n",
       "      <th class=\"index_name level0\" >Μυθιστορήματα</th>\n",
       "      <th class=\"blank col0\" >&nbsp;</th>\n",
       "      <th class=\"blank col1\" >&nbsp;</th>\n",
       "      <th class=\"blank col2\" >&nbsp;</th>\n",
       "      <th class=\"blank col3\" >&nbsp;</th>\n",
       "    </tr>\n",
       "  </thead>\n",
       "  <tbody>\n",
       "    <tr>\n",
       "      <th id=\"T_4bfd6_level0_row0\" class=\"row_heading level0 row0\" >year</th>\n",
       "      <td id=\"T_4bfd6_row0_col0\" class=\"data row0 col0\" >1.882</td>\n",
       "      <td id=\"T_4bfd6_row0_col1\" class=\"data row0 col1\" >1.882</td>\n",
       "      <td id=\"T_4bfd6_row0_col2\" class=\"data row0 col2\" >1.879</td>\n",
       "      <td id=\"T_4bfd6_row0_col3\" class=\"data row0 col3\" >1.884</td>\n",
       "    </tr>\n",
       "    <tr>\n",
       "      <th id=\"T_4bfd6_level0_row1\" class=\"row_heading level0 row1\" >tokens</th>\n",
       "      <td id=\"T_4bfd6_row1_col0\" class=\"data row1 col0\" >439.945</td>\n",
       "      <td id=\"T_4bfd6_row1_col1\" class=\"data row1 col1\" >419.546</td>\n",
       "      <td id=\"T_4bfd6_row1_col2\" class=\"data row1 col2\" >253.358</td>\n",
       "      <td id=\"T_4bfd6_row1_col3\" class=\"data row1 col3\" >646.930</td>\n",
       "    </tr>\n",
       "    <tr>\n",
       "      <th id=\"T_4bfd6_level0_row2\" class=\"row_heading level0 row2\" >characters</th>\n",
       "      <td id=\"T_4bfd6_row2_col0\" class=\"data row2 col0\" >387.072</td>\n",
       "      <td id=\"T_4bfd6_row2_col1\" class=\"data row2 col1\" >369.387</td>\n",
       "      <td id=\"T_4bfd6_row2_col2\" class=\"data row2 col2\" >223.558</td>\n",
       "      <td id=\"T_4bfd6_row2_col3\" class=\"data row2 col3\" >568.270</td>\n",
       "    </tr>\n",
       "  </tbody>\n",
       "</table>\n"
      ],
      "text/plain": [
       "<pandas.io.formats.style.Styler at 0x72f6cc55b850>"
      ]
     },
     "execution_count": 8,
     "metadata": {},
     "output_type": "execute_result"
    }
   ],
   "source": [
    "texts_df[ texts_df.type == 'Μυθιστορήματα' ].describe().T[['mean', '50%', 'min', 'max']].rename(columns={'mean': 'average', '50%': 'median'}).rename_axis('Μυθιστορήματα').style.format(precision=0, thousands=\".\")"
   ]
  },
  {
   "cell_type": "code",
   "execution_count": 9,
   "id": "9f55d7d0",
   "metadata": {},
   "outputs": [
    {
     "data": {
      "image/png": "[encoded data removed]",
      "text/plain": [
       "<Figure size 1500x500 with 1 Axes>"
      ]
     },
     "metadata": {},
     "output_type": "display_data"
    }
   ],
   "source": [
    "plt.figure(figsize=(15,5))\n",
    "sns.boxplot(data=texts_df, x='tokens', y='type');\n",
    "sns.despine()"
   ]
  },
  {
   "cell_type": "code",
   "execution_count": 10,
   "id": "6bbbe33c",
   "metadata": {},
   "outputs": [
    {
     "data": {
      "image/png": "[encoded data removed]",
      "text/plain": [
       "<Figure size 1500x500 with 1 Axes>"
      ]
     },
     "metadata": {},
     "output_type": "display_data"
    }
   ],
   "source": [
    "plt.figure(figsize=(15,5))\n",
    "texts_df.groupby('type').tokens.plot.hist(legend=True, alpha=0.5)\n",
    "sns.despine();"
   ]
  },
  {
   "cell_type": "markdown",
   "id": "48f3d2a8",
   "metadata": {},
   "source": [
    "## Chapters and chunks"
   ]
  },
  {
   "cell_type": "code",
   "execution_count": 11,
   "id": "e777550f",
   "metadata": {},
   "outputs": [
    {
     "name": "stderr",
     "output_type": "stream",
     "text": [
      "0it [00:00, ?it/s]\n",
      "0it [00:00, ?it/s]\n",
      "100%|██████████| 20/20 [00:00<00:00, 3478.15it/s]\n",
      "100%|██████████| 3/3 [00:00<00:00, 3084.05it/s]\n",
      "100%|██████████| 5/5 [00:00<00:00, 4776.02it/s]\n",
      "100%|██████████| 8/8 [00:00<00:00, 4550.37it/s]\n",
      "100%|██████████| 12/12 [00:00<00:00, 8837.87it/s]\n",
      "100%|██████████| 13/13 [00:00<00:00, 3872.58it/s]\n",
      "100%|██████████| 9/9 [00:00<00:00, 7775.23it/s]\n",
      "0it [00:00, ?it/s]\n",
      "100%|██████████| 4/4 [00:00<00:00, 2890.63it/s]\n",
      "0it [00:00, ?it/s]\n",
      "100%|██████████| 1/1 [00:00<00:00, 1938.22it/s]\n",
      "100%|██████████| 16/16 [00:00<00:00, 8697.36it/s]\n",
      "100%|██████████| 3/3 [00:00<00:00, 66.19it/s]\n",
      "100%|██████████| 172/172 [00:00<00:00, 2092.20it/s]\n"
     ]
    },
    {
     "name": "stdout",
     "output_type": "stream",
     "text": [
      "<class 'pandas.core.frame.DataFrame'>\n",
      "Index: 367 entries, 0 to 171\n",
      "Data columns (total 8 columns):\n",
      " #   Column      Non-Null Count  Dtype \n",
      "---  ------      --------------  ----- \n",
      " 0   type        367 non-null    object\n",
      " 1   theme       367 non-null    object\n",
      " 2   title       367 non-null    object\n",
      " 3   year        367 non-null    int64 \n",
      " 4   chapter     367 non-null    object\n",
      " 5   Κείμενο     367 non-null    object\n",
      " 6   tokens      367 non-null    int64 \n",
      " 7   characters  367 non-null    int64 \n",
      "dtypes: int64(3), object(5)\n",
      "memory usage: 25.8+ KB\n"
     ]
    },
    {
     "data": {
      "text/html": [
       "<div>\n",
       "<style scoped>\n",
       "    .dataframe tbody tr th:only-of-type {\n",
       "        vertical-align: middle;\n",
       "    }\n",
       "\n",
       "    .dataframe tbody tr th {\n",
       "        vertical-align: top;\n",
       "    }\n",
       "\n",
       "    .dataframe thead th {\n",
       "        text-align: right;\n",
       "    }\n",
       "</style>\n",
       "<table border=\"1\" class=\"dataframe\">\n",
       "  <thead>\n",
       "    <tr style=\"text-align: right;\">\n",
       "      <th></th>\n",
       "      <th>type</th>\n",
       "      <th>theme</th>\n",
       "      <th>title</th>\n",
       "      <th>year</th>\n",
       "      <th>chapter</th>\n",
       "      <th>Κείμενο</th>\n",
       "      <th>tokens</th>\n",
       "      <th>characters</th>\n",
       "    </tr>\n",
       "  </thead>\n",
       "  <tbody>\n",
       "    <tr>\n",
       "      <th>0</th>\n",
       "      <td>Άρθρα</td>\n",
       "      <td>Θρησκευτικά</td>\n",
       "      <td>ΤΑ ΑΓΙΑ ΘΕΟΦΑΝΕΙΑ</td>\n",
       "      <td>0</td>\n",
       "      <td>Not applied</td>\n",
       "      <td>Περὶ τοῦ βίου τοῦ Ι. Χριστοῦ μέχρι τοῦ τριακοσ...</td>\n",
       "      <td>4723</td>\n",
       "      <td>4159</td>\n",
       "    </tr>\n",
       "    <tr>\n",
       "      <th>1</th>\n",
       "      <td>Άρθρα</td>\n",
       "      <td>Θρησκευτικά</td>\n",
       "      <td>ΧΡΙΣΤΟΥΓΕΝΝΑ</td>\n",
       "      <td>0</td>\n",
       "      <td>Not applied</td>\n",
       "      <td>Ἐὰν τὸ Πάσχα εἶναι ἡ λαμπροτάτη τοῦ Χριστιανισ...</td>\n",
       "      <td>5593</td>\n",
       "      <td>4950</td>\n",
       "    </tr>\n",
       "    <tr>\n",
       "      <th>2</th>\n",
       "      <td>Άρθρα</td>\n",
       "      <td>Θρησκευτικά</td>\n",
       "      <td>Η ΕΒΔΟΜΑΣ ΤΗΣ ΔΙΑΚΑΙΝΗΣΙΜΟΥ</td>\n",
       "      <td>0</td>\n",
       "      <td>Not applied</td>\n",
       "      <td>Ἀπὸ τῆς σήμερον, ἢ μᾶλλον ἀπὸ τῆς χθές, ἀρχίζε...</td>\n",
       "      <td>3197</td>\n",
       "      <td>2805</td>\n",
       "    </tr>\n",
       "    <tr>\n",
       "      <th>3</th>\n",
       "      <td>Άρθρα</td>\n",
       "      <td>Θρησκευτικά</td>\n",
       "      <td>ΤΑ ΜΝΗΜΟΣΥΝΑ ΚΑΙ ΤΟ ΚΑΘΑΡΤΗΡΙΟΝ</td>\n",
       "      <td>0</td>\n",
       "      <td>Not applied</td>\n",
       "      <td>Λίαν ἀξιοπρεπῶς ἀπήντησεν ὁ αἰδ. δὸμ Παῦλος εἰ...</td>\n",
       "      <td>4575</td>\n",
       "      <td>4019</td>\n",
       "    </tr>\n",
       "    <tr>\n",
       "      <th>4</th>\n",
       "      <td>Άρθρα</td>\n",
       "      <td>Θρησκευτικά</td>\n",
       "      <td>ΤΕΛΕΥΤΑΙΑ ΑΠΑΝΤΗΣΙΣ ΕΙΣ ΤΟΝ «ΛΟΓΟΝ»</td>\n",
       "      <td>0</td>\n",
       "      <td>Not applied</td>\n",
       "      <td>Διὰ σᾶς καὶ τοὺς ὁμοίους σας ἐγράφη τό, «Θυμὸς...</td>\n",
       "      <td>1780</td>\n",
       "      <td>1542</td>\n",
       "    </tr>\n",
       "  </tbody>\n",
       "</table>\n",
       "</div>"
      ],
      "text/plain": [
       "    type        theme                                title  year      chapter  \\\n",
       "0  Άρθρα  Θρησκευτικά                    ΤΑ ΑΓΙΑ ΘΕΟΦΑΝΕΙΑ     0  Not applied   \n",
       "1  Άρθρα  Θρησκευτικά                         ΧΡΙΣΤΟΥΓΕΝΝΑ     0  Not applied   \n",
       "2  Άρθρα  Θρησκευτικά          Η ΕΒΔΟΜΑΣ ΤΗΣ ΔΙΑΚΑΙΝΗΣΙΜΟΥ     0  Not applied   \n",
       "3  Άρθρα  Θρησκευτικά      ΤΑ ΜΝΗΜΟΣΥΝΑ ΚΑΙ ΤΟ ΚΑΘΑΡΤΗΡΙΟΝ     0  Not applied   \n",
       "4  Άρθρα  Θρησκευτικά  ΤΕΛΕΥΤΑΙΑ ΑΠΑΝΤΗΣΙΣ ΕΙΣ ΤΟΝ «ΛΟΓΟΝ»     0  Not applied   \n",
       "\n",
       "                                             Κείμενο  tokens  characters  \n",
       "0  Περὶ τοῦ βίου τοῦ Ι. Χριστοῦ μέχρι τοῦ τριακοσ...    4723        4159  \n",
       "1  Ἐὰν τὸ Πάσχα εἶναι ἡ λαμπροτάτη τοῦ Χριστιανισ...    5593        4950  \n",
       "2  Ἀπὸ τῆς σήμερον, ἢ μᾶλλον ἀπὸ τῆς χθές, ἀρχίζε...    3197        2805  \n",
       "3  Λίαν ἀξιοπρεπῶς ἀπήντησεν ὁ αἰδ. δὸμ Παῦλος εἰ...    4575        4019  \n",
       "4  Διὰ σᾶς καὶ τοὺς ὁμοίους σας ἐγράφη τό, «Θυμὸς...    1780        1542  "
      ]
     },
     "execution_count": 11,
     "metadata": {},
     "output_type": "execute_result"
    }
   ],
   "source": [
    "directory_path = \"/home/jmisi/Data Science/Papadiamantis_project/Notebooks/1. Scraping/texts\"\n",
    "documents = {}\n",
    "documents = directory_to_documents(directory_path, split_chapters=True)\n",
    "\n",
    "texts_df = pd.DataFrame()\n",
    "for key in documents.keys():\n",
    "    df = pd.DataFrame([doc.metadata for doc in documents[key]])\n",
    "    df['Κείμενο'] = [doc.page_content for doc in documents[key]]\n",
    "    df['tokens'] = df['Κείμενο'].map(num_tokens_from_string)\n",
    "    df['characters'] = df['Κείμενο'].map(len)\n",
    "    texts_df = pd.concat([texts_df, df])\n",
    "\n",
    "texts_df.info()\n",
    "texts_df.head()"
   ]
  },
  {
   "cell_type": "code",
   "execution_count": 12,
   "id": "1a1fa460",
   "metadata": {},
   "outputs": [],
   "source": [
    "from text_splitters import (text_splitter,\n",
    "                            novel_splitter,\n",
    "                            article_splitter,\n",
    "                            short_story_splitter,\n",
    "                            hymn_splitter)\n",
    "\n",
    "splitters = {'Άρθρα' : article_splitter, 'Ποιήματα': hymn_splitter, 'Μυθιστορήματα': novel_splitter, 'Διηγήματα': short_story_splitter}"
   ]
  },
  {
   "cell_type": "code",
   "execution_count": 13,
   "id": "8c0a3164",
   "metadata": {},
   "outputs": [
    {
     "data": {
      "text/plain": [
       "dict_keys(['Άρθρα', 'Ποιήματα', 'Μυθιστορήματα', 'Διηγήματα'])"
      ]
     },
     "execution_count": 13,
     "metadata": {},
     "output_type": "execute_result"
    }
   ],
   "source": [
    "documents.keys()"
   ]
  },
  {
   "cell_type": "code",
   "execution_count": 14,
   "id": "7fc28ef2",
   "metadata": {},
   "outputs": [],
   "source": [
    "chunks = []\n",
    "for type in documents.keys():\n",
    "    chunks.extend(text_splitter(splitters[type], documents[type]))"
   ]
  },
  {
   "cell_type": "code",
   "execution_count": 15,
   "id": "8e36229d",
   "metadata": {},
   "outputs": [
    {
     "name": "stdout",
     "output_type": "stream",
     "text": [
      "<class 'pandas.core.frame.DataFrame'>\n",
      "RangeIndex: 7056 entries, 0 to 7055\n",
      "Data columns (total 8 columns):\n",
      " #   Column   Non-Null Count  Dtype \n",
      "---  ------   --------------  ----- \n",
      " 0   type     7056 non-null   object\n",
      " 1   theme    7056 non-null   object\n",
      " 2   title    7056 non-null   object\n",
      " 3   year     7056 non-null   int64 \n",
      " 4   chapter  7056 non-null   object\n",
      " 5   chunk    7056 non-null   int64 \n",
      " 6   Κείμενο  7056 non-null   object\n",
      " 7   tokens   7056 non-null   int64 \n",
      "dtypes: int64(3), object(5)\n",
      "memory usage: 441.1+ KB\n"
     ]
    },
    {
     "data": {
      "text/html": [
       "<div>\n",
       "<style scoped>\n",
       "    .dataframe tbody tr th:only-of-type {\n",
       "        vertical-align: middle;\n",
       "    }\n",
       "\n",
       "    .dataframe tbody tr th {\n",
       "        vertical-align: top;\n",
       "    }\n",
       "\n",
       "    .dataframe thead th {\n",
       "        text-align: right;\n",
       "    }\n",
       "</style>\n",
       "<table border=\"1\" class=\"dataframe\">\n",
       "  <thead>\n",
       "    <tr style=\"text-align: right;\">\n",
       "      <th></th>\n",
       "      <th>type</th>\n",
       "      <th>theme</th>\n",
       "      <th>title</th>\n",
       "      <th>year</th>\n",
       "      <th>chapter</th>\n",
       "      <th>chunk</th>\n",
       "      <th>Κείμενο</th>\n",
       "      <th>tokens</th>\n",
       "    </tr>\n",
       "  </thead>\n",
       "  <tbody>\n",
       "    <tr>\n",
       "      <th>0</th>\n",
       "      <td>Άρθρα</td>\n",
       "      <td>Θρησκευτικά</td>\n",
       "      <td>ΤΑ ΑΓΙΑ ΘΕΟΦΑΝΕΙΑ</td>\n",
       "      <td>0</td>\n",
       "      <td>Not applied</td>\n",
       "      <td>0</td>\n",
       "      <td>Περὶ τοῦ βίου τοῦ Ι. Χριστοῦ μέχρι τοῦ τριακοσ...</td>\n",
       "      <td>598</td>\n",
       "    </tr>\n",
       "    <tr>\n",
       "      <th>1</th>\n",
       "      <td>Άρθρα</td>\n",
       "      <td>Θρησκευτικά</td>\n",
       "      <td>ΤΑ ΑΓΙΑ ΘΕΟΦΑΝΕΙΑ</td>\n",
       "      <td>0</td>\n",
       "      <td>Not applied</td>\n",
       "      <td>1</td>\n",
       "      <td>«Μετανοεῖτε» ἦτο ἡ οὐσία τοῦ κηρύγματος αὐτοῦ·...</td>\n",
       "      <td>488</td>\n",
       "    </tr>\n",
       "    <tr>\n",
       "      <th>2</th>\n",
       "      <td>Άρθρα</td>\n",
       "      <td>Θρησκευτικά</td>\n",
       "      <td>ΤΑ ΑΓΙΑ ΘΕΟΦΑΝΕΙΑ</td>\n",
       "      <td>0</td>\n",
       "      <td>Not applied</td>\n",
       "      <td>2</td>\n",
       "      <td>Καὶ ταῦτα λέγων ἐβάπτιζε τὰ πλήθη ἐν ταῖς ὄχθα...</td>\n",
       "      <td>401</td>\n",
       "    </tr>\n",
       "    <tr>\n",
       "      <th>3</th>\n",
       "      <td>Άρθρα</td>\n",
       "      <td>Θρησκευτικά</td>\n",
       "      <td>ΤΑ ΑΓΙΑ ΘΕΟΦΑΝΕΙΑ</td>\n",
       "      <td>0</td>\n",
       "      <td>Not applied</td>\n",
       "      <td>3</td>\n",
       "      <td>Ἀλλ᾿ ὁ Ἰησοῦς: «εἶναι πρέπον νὰ ἐκπληρώσωμεν π...</td>\n",
       "      <td>583</td>\n",
       "    </tr>\n",
       "    <tr>\n",
       "      <th>4</th>\n",
       "      <td>Άρθρα</td>\n",
       "      <td>Θρησκευτικά</td>\n",
       "      <td>ΤΑ ΑΓΙΑ ΘΕΟΦΑΝΕΙΑ</td>\n",
       "      <td>0</td>\n",
       "      <td>Not applied</td>\n",
       "      <td>4</td>\n",
       "      <td>Ἐφάνησαν αὐτῷ οἱ οὐρανοὶ ἀνοιγόμενοι, τὸ Ἅγ. Π...</td>\n",
       "      <td>598</td>\n",
       "    </tr>\n",
       "  </tbody>\n",
       "</table>\n",
       "</div>"
      ],
      "text/plain": [
       "    type        theme              title  year      chapter  chunk  \\\n",
       "0  Άρθρα  Θρησκευτικά  ΤΑ ΑΓΙΑ ΘΕΟΦΑΝΕΙΑ     0  Not applied      0   \n",
       "1  Άρθρα  Θρησκευτικά  ΤΑ ΑΓΙΑ ΘΕΟΦΑΝΕΙΑ     0  Not applied      1   \n",
       "2  Άρθρα  Θρησκευτικά  ΤΑ ΑΓΙΑ ΘΕΟΦΑΝΕΙΑ     0  Not applied      2   \n",
       "3  Άρθρα  Θρησκευτικά  ΤΑ ΑΓΙΑ ΘΕΟΦΑΝΕΙΑ     0  Not applied      3   \n",
       "4  Άρθρα  Θρησκευτικά  ΤΑ ΑΓΙΑ ΘΕΟΦΑΝΕΙΑ     0  Not applied      4   \n",
       "\n",
       "                                             Κείμενο  tokens  \n",
       "0  Περὶ τοῦ βίου τοῦ Ι. Χριστοῦ μέχρι τοῦ τριακοσ...     598  \n",
       "1  «Μετανοεῖτε» ἦτο ἡ οὐσία τοῦ κηρύγματος αὐτοῦ·...     488  \n",
       "2  Καὶ ταῦτα λέγων ἐβάπτιζε τὰ πλήθη ἐν ταῖς ὄχθα...     401  \n",
       "3  Ἀλλ᾿ ὁ Ἰησοῦς: «εἶναι πρέπον νὰ ἐκπληρώσωμεν π...     583  \n",
       "4  Ἐφάνησαν αὐτῷ οἱ οὐρανοὶ ἀνοιγόμενοι, τὸ Ἅγ. Π...     598  "
      ]
     },
     "execution_count": 15,
     "metadata": {},
     "output_type": "execute_result"
    }
   ],
   "source": [
    "chunks_df = pd.DataFrame([doc.metadata for doc in chunks])\n",
    "chunks_df['Κείμενο'] = [doc.page_content for doc in chunks]\n",
    "chunks_df['tokens'] = chunks_df['Κείμενο'].map(num_tokens_from_string)\n",
    "chunks_df.info()\n",
    "chunks_df.head()"
   ]
  },
  {
   "cell_type": "code",
   "execution_count": 16,
   "id": "dcf796d6",
   "metadata": {},
   "outputs": [
    {
     "data": {
      "image/png": "[encoded data removed]",
      "text/plain": [
       "<Figure size 1500x500 with 1 Axes>"
      ]
     },
     "metadata": {},
     "output_type": "display_data"
    }
   ],
   "source": [
    "plt.figure(figsize=(15,5))\n",
    "sns.boxplot(data=chunks_df, x='tokens', y='type');\n",
    "sns.despine()"
   ]
  },
  {
   "cell_type": "code",
   "execution_count": 17,
   "id": "1ed87bd1",
   "metadata": {},
   "outputs": [
    {
     "data": {
      "image/png": "[encoded data removed]",
      "text/plain": [
       "<Figure size 1000x500 with 1 Axes>"
      ]
     },
     "metadata": {},
     "output_type": "display_data"
    }
   ],
   "source": [
    "plt.figure(figsize=(10,5))\n",
    "chunks_df.groupby('type').tokens.plot.hist(legend=True, alpha=0.5)\n",
    "sns.despine();"
   ]
  }
 ],
 "metadata": {
  "kernelspec": {
   "display_name": "papadiamantis_project",
   "language": "python",
   "name": "python3"
  },
  "language_info": {
   "codemirror_mode": {
    "name": "ipython",
    "version": 3
   },
   "file_extension": ".py",
   "mimetype": "text/x-python",
   "name": "python",
   "nbconvert_exporter": "python",
   "pygments_lexer": "ipython3",
   "version": "3.11.11"
  }
 },
 "nbformat": 4,
 "nbformat_minor": 5
}
